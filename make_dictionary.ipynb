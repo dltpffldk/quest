{
 "cells": [
  {
   "cell_type": "code",
   "execution_count": 1,
   "id": "bb2b5e20",
   "metadata": {},
   "outputs": [
    {
     "name": "stdout",
     "output_type": "stream",
     "text": [
      "\u001b[33mWARNING: Running pip as the 'root' user can result in broken permissions and conflicting behaviour with the system package manager. It is recommended to use a virtual environment instead: https://pip.pypa.io/warnings/venv\u001b[0m\n",
      "Collecting jamo\n",
      "  Downloading jamo-0.4.1-py3-none-any.whl (9.5 kB)\n",
      "Installing collected packages: jamo\n",
      "Successfully installed jamo-0.4.1\n",
      "\u001b[33mWARNING: Running pip as the 'root' user can result in broken permissions and conflicting behaviour with the system package manager. It is recommended to use a virtual environment instead: https://pip.pypa.io/warnings/venv\u001b[0m\n"
     ]
    }
   ],
   "source": [
    "!pip install git+https://github.com/crlotwhite/KoG2P_fork.git -q"
   ]
  },
  {
   "cell_type": "code",
   "execution_count": 1,
   "id": "d67d7b4e",
   "metadata": {},
   "outputs": [],
   "source": [
    "import os, tqdm, re\n",
    "from tqdm import tqdm\n",
    "from glob import glob\n",
    "import kog2p"
   ]
  },
  {
   "cell_type": "code",
   "execution_count": 4,
   "id": "bf04c6b6",
   "metadata": {},
   "outputs": [
    {
     "name": "stderr",
     "output_type": "stream",
     "text": [
      "100%|██████████| 2688/2688 [00:00<00:00, 3899.35it/s]\n"
     ]
    }
   ],
   "source": [
    "dict_type = \"g2p\"\n",
    "asset_dir = './assets' # @param {type:\"string\"}\n",
    "\n",
    "_dict = {}\n",
    "for f in tqdm(os.listdir(asset_dir)):\n",
    "    if '.lab' in f:\n",
    "        sentence = open(f'{asset_dir}/{f}', 'r', encoding='utf-8').readline()\n",
    "            \n",
    "        for s in sentence.split(' '):\n",
    "            if s != ' ':\n",
    "                if s not in _dict:\n",
    "                    _dict[s] = kog2p.runKoG2P(s)\n",
    "        \n",
    "        \n",
    "dict_name = f'temp-dictionary.txt'\n",
    "with open(dict_name, 'w', encoding='utf-8') as f:\n",
    "    for key in _dict.keys():\n",
    "        content = '{}\\t{}\\n'.format(key, _dict[key])\n",
    "        f.write(content)"
   ]
  }
 ],
 "metadata": {
  "kernelspec": {
   "display_name": "Python 3 (ipykernel)",
   "language": "python",
   "name": "python3"
  },
  "language_info": {
   "codemirror_mode": {
    "name": "ipython",
    "version": 3
   },
   "file_extension": ".py",
   "mimetype": "text/x-python",
   "name": "python",
   "nbconvert_exporter": "python",
   "pygments_lexer": "ipython3",
   "version": "3.9.7"
  }
 },
 "nbformat": 4,
 "nbformat_minor": 5
}
