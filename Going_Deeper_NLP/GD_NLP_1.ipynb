{
 "cells": [
  {
   "cell_type": "markdown",
   "id": "5f45bc56",
   "metadata": {},
   "source": [
    "# 네이버 영화리뷰 감정 분석 문제에 SentencePiece 적용해 보기  \n",
   ]
  },
  {
   "cell_type": "code",
   "execution_count": 49,
   "id": "0baaf10c",
   "metadata": {},
   "outputs": [
    {
     "name": "stdout",
     "output_type": "stream",
     "text": [
      "fin\n"
     ]
    }
   ],
   "source": [
    "import tensorflow as tf\n",
    "import numpy as np\n",
    "import konlpy\n",
    "import sentencepiece as spm\n",
    "import os\n",
    "import pandas as pd\n",
    "import urllib.request\n",
    "import matplotlib.pyplot as plt\n",
    "import re\n",
    "from konlpy.tag import Okt\n",
    "from tensorflow import keras\n",
    "from tensorflow.keras.preprocessing.text import Tokenizer\n",
    "from tensorflow.keras.preprocessing.sequence import pad_sequences\n",
    "from collections import Counter\n",
    "from konlpy.tag import Mecab\n",
    "\n",
    "print(\"fin\")"
   ]
  },
  {
   "cell_type": "markdown",
   "id": "1faffb0e",
   "metadata": {},
   "source": [
    "## 1. 데이터 준비, 정제하기"
   ]
  },
  {
   "cell_type": "code",
   "execution_count": 20,
   "id": "4ef23e3a",
   "metadata": {},
   "outputs": [
    {
     "name": "stdout",
     "output_type": "stream",
     "text": [
      "train 데이터 사이즈: 150000\n",
      "test 데이터 사이즈: 50000\n"
     ]
    },
    {
     "data": {
      "text/html": [
       "<div>\n",
       "<style scoped>\n",
       "    .dataframe tbody tr th:only-of-type {\n",
       "        vertical-align: middle;\n",
       "    }\n",
       "\n",
       "    .dataframe tbody tr th {\n",
       "        vertical-align: top;\n",
       "    }\n",
       "\n",
       "    .dataframe thead th {\n",
       "        text-align: right;\n",
       "    }\n",
       "</style>\n",
       "<table border=\"1\" class=\"dataframe\">\n",
       "  <thead>\n",
       "    <tr style=\"text-align: right;\">\n",
       "      <th></th>\n",
       "      <th>id</th>\n",
       "      <th>document</th>\n",
       "      <th>label</th>\n",
       "    </tr>\n",
       "  </thead>\n",
       "  <tbody>\n",
       "    <tr>\n",
       "      <th>0</th>\n",
       "      <td>9976970</td>\n",
       "      <td>아 더빙.. 진짜 짜증나네요 목소리</td>\n",
       "      <td>0</td>\n",
       "    </tr>\n",
       "    <tr>\n",
       "      <th>1</th>\n",
       "      <td>3819312</td>\n",
       "      <td>흠...포스터보고 초딩영화줄....오버연기조차 가볍지 않구나</td>\n",
       "      <td>1</td>\n",
       "    </tr>\n",
       "    <tr>\n",
       "      <th>2</th>\n",
       "      <td>10265843</td>\n",
       "      <td>너무재밓었다그래서보는것을추천한다</td>\n",
       "      <td>0</td>\n",
       "    </tr>\n",
       "    <tr>\n",
       "      <th>3</th>\n",
       "      <td>9045019</td>\n",
       "      <td>교도소 이야기구먼 ..솔직히 재미는 없다..평점 조정</td>\n",
       "      <td>0</td>\n",
       "    </tr>\n",
       "    <tr>\n",
       "      <th>4</th>\n",
       "      <td>6483659</td>\n",
       "      <td>사이몬페그의 익살스런 연기가 돋보였던 영화!스파이더맨에서 늙어보이기만 했던 커스틴 ...</td>\n",
       "      <td>1</td>\n",
       "    </tr>\n",
       "  </tbody>\n",
       "</table>\n",
       "</div>"
      ],
      "text/plain": [
       "         id                                           document  label\n",
       "0   9976970                                아 더빙.. 진짜 짜증나네요 목소리      0\n",
       "1   3819312                  흠...포스터보고 초딩영화줄....오버연기조차 가볍지 않구나      1\n",
       "2  10265843                                  너무재밓었다그래서보는것을추천한다      0\n",
       "3   9045019                      교도소 이야기구먼 ..솔직히 재미는 없다..평점 조정      0\n",
       "4   6483659  사이몬페그의 익살스런 연기가 돋보였던 영화!스파이더맨에서 늙어보이기만 했던 커스틴 ...      1"
      ]
     },
     "execution_count": 20,
     "metadata": {},
     "output_type": "execute_result"
    }
   ],
   "source": [
    "train_data = pd.read_table('~/aiffel/Going_Deeper_NLP/GD_NLP_1/ratings_train.txt')\n",
    "test_data = pd.read_table('~/aiffel/Going_Deeper_NLP/GD_NLP_1/ratings_test.txt')\n",
    "\n",
    "print('train 데이터 사이즈:', len(train_data))\n",
    "print('test 데이터 사이즈:', len(test_data))\n",
    "\n",
    "train_data.head()"
   ]
  },
  {
   "cell_type": "code",
   "execution_count": 21,
   "id": "e28e4401",
   "metadata": {},
   "outputs": [
    {
     "name": "stdout",
     "output_type": "stream",
     "text": [
      "train 데이터 사이즈: 146182\n",
      "test 데이터 사이즈: 49157\n"
     ]
    }
   ],
   "source": [
    "# 중복 및 결측치 제거\n",
    "train_data.drop_duplicates(subset=['document'], inplace=True)\n",
    "train_data = train_data.dropna(how = 'any') \n",
    "test_data.drop_duplicates(subset=['document'], inplace=True)\n",
    "test_data = test_data.dropna(how = 'any') \n",
    "\n",
    "print('train 데이터 사이즈:', len(train_data))\n",
    "print('test 데이터 사이즈:', len(test_data))"
   ]
  },
  {
   "cell_type": "code",
   "execution_count": 22,
   "id": "d8e2a7a5",
   "metadata": {},
   "outputs": [
    {
     "name": "stdout",
     "output_type": "stream",
     "text": [
      "Data Size: 195339\n",
      "Example:\n",
      ">> 아 더빙.. 진짜 짜증나네요 목소리\n",
      ">> 나름 심오한 뜻도 있는 듯. 그냥 학생이 선생과 놀아나는 영화는 절대 아님\n",
      ">> 단순하면서 은은한 매력의 영화\n",
      ">> 보는내내 그대로 들어맞는 예측 카리스마 없는 악역\n",
      ">> 뭐냐..시작하고 3분만에 나왔다. 리플릿 사진 보며 불안하더니만..\n"
     ]
    }
   ],
   "source": [
    "# 데이터 전처리 준비\n",
    "data = list(train_data['document']) + list(test_data['document'])\n",
    "\n",
    "print(\"Data Size:\", len(data))\n",
    "\n",
    "print(\"Example:\")\n",
    "for sen in data[0:100][::20]: print(\">>\", sen)"
   ]
  },
  {
   "cell_type": "code",
   "execution_count": 29,
   "id": "8382c4dc",
   "metadata": {},
   "outputs": [
    {
     "name": "stdout",
     "output_type": "stream",
     "text": [
      "최단 길이: 1\n",
      "최장 길이: 146\n",
      "평균 길이: 35\n"
     ]
    },
    {
     "data": {
      "image/png": "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\n",
      "text/plain": [
       "<Figure size 432x288 with 1 Axes>"
      ]
     },
     "metadata": {
      "needs_background": "light"
     },
     "output_type": "display_data"
    }
   ],
   "source": [
    "# 데이터 정제\n",
    "# 문장의 최단, 최장, 평균 길이\n",
    "min_len = 999\n",
    "max_len = 0\n",
    "sum_len = 0\n",
    "\n",
    "for sen in data: \n",
    "    length = len(sen)\n",
    "    if min_len > length: min_len = length\n",
    "    if max_len < length: max_len = length\n",
    "    sum_len += length\n",
    "\n",
    "print(\"최단 길이:\", min_len)\n",
    "print(\"최장 길이:\", max_len)\n",
    "print(\"평균 길이:\", sum_len // len(data))\n",
    "\n",
    "sentence_length = np.zeros((max_len), dtype=int)\n",
    "\n",
    "for sen in data:\n",
    "    sentence_length[len(sen)-1] += 1\n",
    "\n",
    "plt.bar(range(max_len), sentence_length, width=1.0)\n",
    "plt.title(\"Sentence Length Distribution\")\n",
    "plt.show()"
   ]
  },
  {
   "cell_type": "code",
   "execution_count": 24,
   "id": "c4424b7d",
   "metadata": {},
   "outputs": [
    {
     "name": "stdout",
     "output_type": "stream",
     "text": [
      "아\n",
      "잼\n",
      "1\n",
      "4\n",
      "굿\n",
      "짱\n",
      "휴\n",
      ".\n",
      "음\n",
      "?\n",
      "ㅎ\n",
      "ㅋ\n",
      "즐\n",
      "♥\n",
      "굳\n",
      "네\n",
      "ㅇ\n",
      "k\n",
      "ㅠ\n",
      "쒯\n",
      "♬\n",
      "토\n",
      "O\n",
      "똥\n",
      "z\n",
      "헐\n",
      "삼\n",
      "꽝\n",
      "!\n",
      "풉\n",
      "ㅅ\n",
      "왜\n",
      "ㄴ\n",
      "쉣\n",
      "봐\n",
      "뿌\n",
      "ㅜ\n",
      "♡\n",
      "ㅁ\n",
      "0\n",
      "ㅉ\n",
      "d\n",
      "흥\n",
      "乃\n",
      "찜\n",
      "귯\n",
      "린\n",
      "시\n",
      "ㅗ\n",
      "a\n",
      "c\n",
      "흠\n",
      "웅\n",
      "ㅣ\n",
      "오\n",
      "9\n",
      "쩜\n",
      "애\n",
      "헝\n",
      "쨩\n",
      "f\n",
      "움\n",
      "ㄳ\n",
      "업\n",
      "헉\n",
      "군\n",
      "b\n",
      ";\n",
      "g\n",
      "올\n",
      "걍\n",
      "허\n",
      "-\n",
      "쀍\n",
      "로\n",
      "ㄹ\n",
      "ㅂ\n",
      "갑\n",
      "즛\n",
      "킥\n",
      "함\n",
      "진\n",
      "ㅡ\n",
      "잠\n",
      "곧\n",
      "ㅍ\n",
      "h\n",
      "·\n",
      "캬\n",
      "ㅆ\n",
      ",\n",
      "풋\n",
      "ㄱ\n",
      "파\n",
      "ㄷ\n",
      "웩\n",
      "꺅\n",
      "욜\n",
      "ㅄ\n",
      "2\n",
      "핡\n",
      "-------------------------------------\n",
      "\"스폰으로 먹고사는 방송이라 어쩔수 없다고 하지만. 이건 그냥 비현실적인 자동차만;...독일3사&슈퍼카 홍보 프로그램도 아니구.대중적인 자동차 방송으로 이루어 졌으면 합니다. 보는내내 \"\"카탈로그 책자\"\"를 \"\"동영상으로 보여주는 방송\"\" 같아서 씁쓸하네요.!\"\n",
      "\"\"\"니 짓은 생각않고, 웬 복수!\"\"의 교훈이라! 그럼 \"\"서바이벌 액션\"\"으로 홍보하면 안되지! 초반 45분은 멋지게 열더니.. 억지 반전, 하드고어로 시간끌다가, 허둥지둥 화해로 끝내버리네. 90분 러닝타임에 엔딩자막만 11분 틀어주는 해괴망측한 영화~!\"\n",
      "\"2007.02.25_ 벌교의 한 국밥집_ 점심: \"\"갸는 첫째고, 저 놈은 우리 둘째~\"\" 재문: \"\"아줌마! 미안해~ 그냥.. 아줌마! 나 그 남방 잘 어울려ㅠ_ㅠ?\"\" 대식에게 복수하려던 1주일 전_ 대식의 엄마를 먼저 만났다. 사랑의 꽃남방도..^-^o\"\n"
     ]
    }
   ],
   "source": [
    "# 문장 길이 확인\n",
    "def check_sentence_with_length(raw, length):\n",
    "    count = 0\n",
    "    \n",
    "    for sen in raw:\n",
    "        if len(sen) == length:\n",
    "            print(sen)\n",
    "            count += 1\n",
    "            if count > 100: return\n",
    "\n",
    "# 최단 길이 확인\n",
    "check_sentence_with_length(data, 1)\n",
    "print(\"-------------------------------------\")\n",
    "# 최장 길이 확인           \n",
    "check_sentence_with_length(data, 146)"
   ]
  },
  {
   "cell_type": "code",
   "execution_count": 25,
   "id": "20ac29a4",
   "metadata": {},
   "outputs": [
    {
     "name": "stdout",
     "output_type": "stream",
     "text": [
      "Outlier Index: 12\n",
      "Outlier Index: 13\n",
      "Outlier Index: 14\n",
      "Outlier Index: 15\n",
      "Outlier Index: 16\n",
      "Outlier Index: 17\n",
      "아햏햏 아햏햏 아햏햏.\n",
      "단연 최고라고 할수있지\n",
      "용가리 진짜짱짱맨이다ㅋ\n",
      "나름 괜찮은 작품입니다\n",
      "정말 실망 스러웟음..\n",
      "무술인이 왜 총을드나?\n",
      "너무너무 훈훈하네요^^\n",
      "현실은 꿈, 꿈은 현실\n",
      "답없네, 뭐하는건지..\n",
      "엔딩이 넘 슬퍼요 :(\n",
      "감동감동감동의 도가니탕\n",
      "정말 최고의 영화...\n",
      "진짜 짜증나는 영화..\n",
      "상당히 재밌게 봤습니다\n",
      "영상미가 역시 최고네요\n",
      "감독ㅡㅡ다신영화찍지마라\n",
      "이런 영화가 참 좋다.\n",
      "정말 광해와 비슷한가?\n",
      "더빙이 똥이야 ....\n",
      "잠을 청할 수 있었다.\n",
      "나오코 진짜 집중안된다\n",
      "샬라샬라 나오다즁자쥬아\n",
      "지루하다.. 지루해..\n",
      "사과해요, 나한테!!!\n",
      "소재가 굉장히 신선했다\n",
      "솔직히 산만 하기만했다\n",
      "OST가 좋은 영화!!\n",
      "기적은 이미 일어났다.\n",
      "답을 알려고 하지마라.\n",
      "평점은 믿지마셈 재밌음\n",
      "재미 드럽게 없다ㅋㅋㅋ\n",
      "자식을 그렇게 때리냐?\n",
      "감동적이였고 좋았습니다\n",
      "울컥하는 사회현실 ㅠㅠ\n",
      "등장인물들 모두 짱~~\n",
      "막장드라마가 따로없구만\n",
      "말 필요엄따~~~~진정\n",
      "꿀잼 영화 추억이다ㅜㅜ\n",
      "맞추자 ㅍ?차븟ㅇㄱ디시\n",
      "순수하고 아름답다 :)\n",
      "변태적 성욕 자기합리화\n",
      "흠....나름 갠찬네요\n",
      "걍 10점 이라길래..\n",
      "실력이 필요없는 상황.\n",
      "감동과 웃음을 한방에!\n",
      "이거야 이거 ㅋㅋㅋㅋㅋ\n",
      "성동일딸 시르다...참\n",
      "평점알바들을 위해 1점\n",
      "볼만합니다 강추!!ㅋㅋ\n",
      "이거말고 겨울왕국을봐라\n",
      "좋은니다..^.,^~~\n",
      "2.3 (10자 제한)\n",
      "아무도 안달았네..ㄷㄷ\n",
      "엉성하고 어설프고...\n",
      "그냥 보통으로 보았다.\n",
      "너무 슬픈영화..울음ㅠ\n",
      "으리는 개뿔 ㅡ,.ㅡ^\n",
      "처음 본 에로 영화..\n",
      "평점 조정을 위해...\n",
      "그냥 쓰레기지 쓰레기~\n",
      "쵝오네요 최고 대박영화\n",
      "유전무죄 무전유죄!!!\n",
      "의외의 꿀잼 이였습니다\n",
      "어차피 우승은 송민호~\n",
      "이 때부터가 쓰레기였지\n",
      "완전 찝찝한 영화...\n",
      "이상형이 바뀌었습니다.\n",
      "역시 산드라블록 누님!\n",
      "결국 엄마가 죽인거네?\n",
      "그냥 그저 별시리...\n",
      "추천할만한 경제영화였음\n",
      "제대로 알아야할 역사임\n",
      "일본판이더재미있음...\n",
      "역시 재미있군요 >ㅁ<\n",
      "아깝다 나의 1점도ㅡㅡ\n",
      "마음이 따뜻해지는 영화\n",
      "죽었다. 참 재미없다.\n",
      "최고, 정말 최고다,,\n",
      "공유 보려고 보는 영화\n",
      "재밌습니다. 꿀잼 ㅋㅋ\n",
      "조정래와 임권택의 만남\n",
      "간만에쓰레기영화보네요ㅋ\n",
      "너무재밌게 봤어요...\n",
      "의미가 뭘까...///\n",
      "이건 범죄 수준이다..\n",
      "박평식-뚜껑열린다ㅋㅋㅋ\n",
      "볼수록 재밌는 마의!!\n",
      "짱~ 오늘 티비로 봤음\n",
      "말없이 눈물이 뚝뚝..\n",
      "이렇게 유쾌할수가ㅋㅋㅋ\n",
      "완죤 지루하고 재미없네\n",
      "보다가 나가는 영화??\n",
      "에휴..........\n",
      "재미도 없구만...에효\n",
      "옥보단 3D보다 쓰레기\n",
      "반전이 꽤나 신선했다.\n",
      "허접허접허접허접허접허접\n",
      "독특한 유머. 재밌다.\n",
      "좀 식상한 스릴러영화~\n",
      "하하하핳하햐하핯하핳하하\n",
      "이영화 어디서 보나요?\n"
     ]
    }
   ],
   "source": [
    "for idx, _sum in enumerate(sentence_length):\n",
    "    # 문장 내 단어의 개수가 5000을 초과하는 인덱스를 추출\n",
    "    if _sum > 5000:\n",
    "        print(\"Outlier Index:\", idx+1)\n",
    "        \n",
    "check_sentence_with_length(data, 12)"
   ]
  },
  {
   "cell_type": "code",
   "execution_count": 30,
   "id": "40f2ef89",
   "metadata": {},
   "outputs": [
    {
     "name": "stdout",
     "output_type": "stream",
     "text": [
      "Data Size: 194543\n",
      "문장의 최단 길이: 1\n",
      "문장의 최장 길이: 146\n",
      "문장의 평균 길이: 36\n"
     ]
    },
    {
     "data": {
      "image/png": "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\n",
      "text/plain": [
       "<Figure size 432x288 with 1 Axes>"
      ]
     },
     "metadata": {
      "needs_background": "light"
     },
     "output_type": "display_data"
    }
   ],
   "source": [
    "# 데이터에서 중복 제거하기\n",
    "min_len= 999\n",
    "max_len = 0\n",
    "sum_len = 0\n",
    "\n",
    "cleaned_corpus = list(set(data))  # 중복 제거\n",
    "print(\"Data Size:\", len(cleaned_corpus))\n",
    "\n",
    "for sen in cleaned_corpus:\n",
    "    length = len(sen)\n",
    "    if min_len > length: min_len = length\n",
    "    if max_len < length: max_len = length\n",
    "    sum_len += length\n",
    "\n",
    "print(\"문장의 최단 길이:\", min_len)\n",
    "print(\"문장의 최장 길이:\", max_len)\n",
    "print(\"문장의 평균 길이:\", sum_len // len(cleaned_corpus))\n",
    "\n",
    "sentence_length = np.zeros((max_len), dtype=int)\n",
    "\n",
    "for sen in cleaned_corpus:   # 중복이 제거된 코퍼스 기준\n",
    "    sentence_length[len(sen)-1] += 1\n",
    "\n",
    "plt.bar(range(max_len), sentence_length, width=1.0)\n",
    "plt.title(\"Sentence Length Distribution\")\n",
    "plt.show()"
   ]
  },
  {
   "cell_type": "code",
   "execution_count": 28,
   "id": "a4fd1fc2",
   "metadata": {},
   "outputs": [
    {
     "data": {
      "image/png": "iVBORw0KGgoAAAANSUhEUgAAAX0AAAEICAYAAACzliQjAAAAOXRFWHRTb2Z0d2FyZQBNYXRwbG90bGliIHZlcnNpb24zLjQuMywgaHR0cHM6Ly9tYXRwbG90bGliLm9yZy/MnkTPAAAACXBIWXMAAAsTAAALEwEAmpwYAAAZwElEQVR4nO3df5QdZZ3n8fdHfgtKAmQy0B3tuESZ4FkRrxBG1mHByQ8Qw/E4TGZYiUz2ZN3DuDirg0H3TBRZhVlXhFkHJwNIYBggE0UiZMQ2MGfWcYl0BPkVmDQKpkNCGjoJvxwg8N0/6rmx0vRN307f/lXP53XOPV311HOfeurW7W899dRzqxQRmJlZHt401hUwM7PR46BvZpYRB30zs4w46JuZZcRB38wsIw76ZmYZcdA3azFJHZJC0r4tLPMcST9sYXkPSzolTX9R0t+1sOzPS7q6VeVZaznoV5ykkyX9RNIOSX2S/kXS+1tQ7ick/bgVdWwlSU9I+tBEWqek6yS9Iun59HpI0lclHVrPExE3RsTsJsu6ZLB8EXFsRPzT3ta5tL5TJPX0K/srEfGfh1u2jQwH/QqT9FbgduCvgMOANuBLwMtjWS8b0F9GxFuAKcB5wCzgXyQd3MqVtPLswyYmB/1qeydARNwUEa9FxK8j4ocR8UA9g6Q/kbRe0jZJd0p6e2lZSPqkpA2Stkv6pgq/A3wLOEnSC5K2p/wHSPqapF9JelrStyQdlJadIqlH0mckbZW0WdJ5pXUdJOl/S3oynZX8uPTeWelsZbukn9e7JYZC0pskLZH0uKRnJa2QdFhaVu+OWZjq/oykL/Sr2/L0Ga2XdGG9dSvpBuBtwPfTZ3FhabXnDFTenkTEv0XEvcBHgMMpDgC7nVmlfXB5+hyfk/SgpHdLWgycA1yY6vL9lP8JSZ+T9ADwoqR9Bzg7OVDSLelM42eS3lPa/pB0dGn+OkmXpAPSPwJHpfW9IOko9esukvQRFd1J2yX9U/r+1Jc9Iemzkh5I+/0WSQc281nZ3nHQr7Z/BV5LAWuepMnlhZLmA58HPkrRwvy/wE39yvgw8H7g3wNnA3MiYj3wSeD/RcQhETEp5b2U4kBzHHA0xZnFX5TK+m3g0JS+CPhmqU5fA94H/C7FWcmFwOuS2oA7gEtS+meB70iaMsTP4lPAWcDvAUcB24Bv9stzMvAu4DTgL0rBaSnQAbwD+H3gP9XfEBEfB34FnJk+i79sorxBRcTzQCfwHwZYPBv4IMVnfSjFfnk2IpYBN1KcNRwSEWeW3vNHwBnApIjYOUCZ84F/oPiM/x74nqT9Bqnji8A84Km0vkMi4qlyHknvpPhOfZriO7aa4gC5fynb2cBcYDrF9+wTe1qvDY+DfoVFxHMUgSeAvwV6Ja2SNDVl+STw1YhYnwLBV4Djyq194NKI2B4RvwLupgjobyBJwGLgzyKiLwWtrwALStleBS6OiFcjYjXwAvAuSW8C/gS4ICI2pbOSn0TEyxQBdnVErI6I1yOiE+gCTh/ix/FJ4AsR0ZPK/SLwMe3e3fGldDb0c+DnQL21ezbwlYjYFhE9wJVNrrNRec16iiII9/cq8BbgGEBp/20epKwrI2JjRPy6wfJ1EbEyIl4Fvg4cSNHFNFx/CNwREZ2p7K8BB1Ec3Mt1eyoi+oDv0+A7Zq3hoF9xKSB8IiLagXdTtHK/kRa/HbginXZvB/oAUbTE67aUpl8CDmmwqinAm4F1pfJ+kNLrnu3XyqyXdwRFkHl8gHLfDvxBvcxU7snAkXva7gbl3FoqYz3wGjC1lKfRth4FbCwtK0/vSbOfXSNtFPtkNxFxF/B/KM5UtkpapuL6zZ4MVuddyyPidaCHYruH6yjgyX5lb2TvvmPWAg76GYmIR4HrKII/FP98/yUiJpVeB0XET5oprt/8M8CvgWNLZR0aEc38Az8D/Bvw7wZYthG4oV8dD46IS5sot3858/qVc2BEbGrivZuB9tL8tH7LW36rWkmHAB+i6HJ7g4i4MiLeB8yk6Ob580HqMlgdd21TOvNqpzjTgCIQv7mU97eHUO5TFAfcetlK62rmc7cR4KBfYZKOSRdO29P8NIq+3XtSlm8BF0k6Ni0/VNIfNFn800B7vW82teD+Frhc0m+l8tokzRmsoPTea4GvpwuB+0g6SdIBwN8BZ0qak9IPVHFRuH0PRe6X8tVf+6Zt/Z/1ritJU9I1jWasoPicJqdrDH86wGfxjibL2iMVF8PfB3yP4rrDtwfI835JJ6Y+9xcpDpivD7Mu75P00fRZfZpihFf9e3I/8Mfp859LcV2k7mngcJWGl/azAjhD0mmpvp9JZTfTsLAR4KBfbc8DJwJrJb1I8U/8EMU/HhFxK3AZcLOk59KyeU2WfRfwMLBF0jMp7XNAN3BPKu9HFBcym/FZ4EHgXooujcuAN0XERoqLjJ8Heila7H/Onr+7qynOOuqvLwJXAKuAH0p6nuKzOLHJul1M0d3xy7RNK9l92OtXgf+Ruo4+22SZ/V2Y6vUscD2wDvjddLG0v7dSHGC3UXSdPAv8r7TsGmBmqsv3hrD+2yj637cBHwc+mvrgAS4AzgS2U4wO2lVuOnu8CfhFWuduXUIR8RjFdZm/ojijO5PiovcrQ6ibtZD8EBWzoZH0X4EFEfF7g2Y2G2fc0jcbhKQjJX1AxVj/d1GcKd061vUy2xv+dZ7Z4PYH/oZiHPl24Gbgr8eyQmZ7y907ZmYZcfeOmVlGxnX3zhFHHBEdHR1jXQ0zswll3bp1z0TEgLcqGddBv6Ojg66urrGuhpnZhCLpyUbL3L1jZpYRB30zs4w46JuZZcRB38wsIw76ZmYZaSroS5okaaWkR1U8Lu4kSYdJ6lTxKL3O+hOQVLhSUnd6BNrxpXIWpvwbJC0cqY0yM7OBNdvSvwL4QUQcQ/H0n/XAEmBNRMwA1qR5KO7SOCO9FgNXAah4HulSijsbngAs7f/4PjMzG1mDBv10n+wPUtyylYh4JSK2U9zudnnKtpzi+aOk9OujcA8wSdKRwBygMz1KbxvF8z/ntnBbzMxsEM209KdT3Mf825Luk3S1pIOBqaXncm7hN4+da2P3R7P1pLRG6buRtFhSl6Su3t7eoW2NmZntUTO/yN0XOB74VESslXQFv+nKASAiQlJL7twWEcuAZQC1Wq1Sd4PrWHLHruknLj1jDGtiZrlqpqXfA/RExNo0v5LiIPB06rYh/d2alm9i92eItqe0RulmZjZKBg36EbEF2JgeHgFwGvAIxaPn6iNwFlI8bo2Ufm4axTML2JG6ge4EZqfnjE4GZqc0MzMbJc3ecO1TwI3pIdi/AM6jOGCskLSI4jmdZ6e8q4HTKZ6V+lLKS0T0SfoyxTNQAS6OiL6WbIWZmTVlXD9EpVarRZXuslnu0y9z/76ZtZKkdRFRG2iZf5FrZpYRB30zs4w46JuZZcRB38wsI+P6cYlV0OjirZnZWHBL38wsIw76ZmYZcdA3M8uIg76ZWUYc9M3MMuKgb2aWEQ/ZHAd8n30zGy1u6ZuZZcRB38wsIw76ZmYZcdA3M8uIg76ZWUYc9M3MMuKgb2aWEY/TH2c8Zt/MRpJb+mZmGXHQNzPLiIO+mVlGHPTNzDLioG9mlpGmgr6kJyQ9KOl+SV0p7TBJnZI2pL+TU7okXSmpW9IDko4vlbMw5d8gaeHIbJKZmTUylJb+f4yI4yKiluaXAGsiYgawJs0DzANmpNdi4CooDhLAUuBE4ARgaf1AYWZmo2M43TvzgeVpejlwVin9+ijcA0ySdCQwB+iMiL6I2AZ0AnOHsX4zMxuiZn+cFcAPJQXwNxGxDJgaEZvT8i3A1DTdBmwsvbcnpTVK342kxRRnCLztbW9rsnrV5B9qmVmrNRv0T46ITZJ+C+iU9Gh5YUREOiAMWzqgLAOo1WotKdPMzApNde9ExKb0dytwK0Wf/NOp24b0d2vKvgmYVnp7e0prlG5mZqNk0KAv6WBJb6lPA7OBh4BVQH0EzkLgtjS9Cjg3jeKZBexI3UB3ArMlTU4XcGenNGtCx5I7dr3MzPZWM907U4FbJdXz/31E/EDSvcAKSYuAJ4GzU/7VwOlAN/AScB5ARPRJ+jJwb8p3cUT0tWxLzMxsUIMG/Yj4BfCeAdKfBU4bID2A8xuUdS1w7dCraWZmreBf5JqZZcT305+APJTTzPaWW/pmZhlx0Dczy4iDvplZRhz0zcwy4qBvZpYRj96Z4DySx8yGwi19M7OMOOibmWXEQd/MLCPu068Q9++b2WDc0jczy4hb+iPA97w3s/HKQb+i+h943N1jZuDuHTOzrDjom5llxEHfzCwjDvpmZhlx0Dczy4hH72TCP9wyM3BL38wsKw76ZmYZcdA3M8uIg76ZWUZ8ITdDvqhrlq+mW/qS9pF0n6Tb0/x0SWsldUu6RdL+Kf2ANN+dlneUyrgopT8maU7Lt8bMzPZoKN07FwDrS/OXAZdHxNHANmBRSl8EbEvpl6d8SJoJLACOBeYCfy1pn+FV34arY8kdu15mVn1NBX1J7cAZwNVpXsCpwMqUZTlwVpqen+ZJy09L+ecDN0fEyxHxS6AbOKEF22BmZk1qtqX/DeBC4PU0fziwPSJ2pvkeoC1NtwEbAdLyHSn/rvQB3rOLpMWSuiR19fb2Nr8lZmY2qEEv5Er6MLA1ItZJOmWkKxQRy4BlALVaLUZ6ffYbvsBrVn3NjN75APARSacDBwJvBa4AJknaN7Xm24FNKf8mYBrQI2lf4FDg2VJ6Xfk9ZmY2Cgbt3omIiyKiPSI6KC7E3hUR5wB3Ax9L2RYCt6XpVWmetPyuiIiUviCN7pkOzAB+2rItMTOzQQ1nnP7ngJslXQLcB1yT0q8BbpDUDfRRHCiIiIclrQAeAXYC50fEa8NYv5mZDZGKRvj4VKvVoqura6yrMWRVG/7o/n2ziUXSuoioDbTMt2EwM8uIb8Ngg/KoHrPqcEvfzCwjbunbkLjVbzaxuaVvZpYRB30zs4y4e8f2mrt6zCYet/TNzDLioG9mlhF371jLudvHbPxy0LeWqNqtJ8yqyt07ZmYZcdA3M8uIg76ZWUYc9M3MMuKgb2aWEY/eaRGPXjGzicBB30ZUo4Ohx++bjQ1375iZZcRB38wsIw76ZmYZcdA3M8uIg76ZWUYc9M3MMuKgb2aWEQd9M7OMDBr0JR0o6aeSfi7pYUlfSunTJa2V1C3pFkn7p/QD0nx3Wt5RKuuilP6YpDkjtlVmZjagZn6R+zJwakS8IGk/4MeS/hH478DlEXGzpG8Bi4Cr0t9tEXG0pAXAZcAfSpoJLACOBY4CfiTpnRHx2ghsl41zfrqW2dgYtKUfhRfS7H7pFcCpwMqUvhw4K03PT/Ok5adJUkq/OSJejohfAt3ACa3YCDMza05TffqS9pF0P7AV6AQeB7ZHxM6UpQdoS9NtwEaAtHwHcHg5fYD3lNe1WFKXpK7e3t4hb5CZmTXWVNCPiNci4jignaJ1fsxIVSgilkVELSJqU6ZMGanVmJllaUijdyJiO3A3cBIwSVL9mkA7sClNbwKmAaTlhwLPltMHeI+ZmY2CZkbvTJE0KU0fBPw+sJ4i+H8sZVsI3JamV6V50vK7IiJS+oI0umc6MAP4aYu2w8zMmtDM6J0jgeWS9qE4SKyIiNslPQLcLOkS4D7gmpT/GuAGSd1AH8WIHSLiYUkrgEeAncD5HrljZja6VDTCx6darRZdXV1jXY2m+MlZrdHM8E0P9zTbM0nrIqI20DL/ItfMLCMO+mZmGfEzcm1CcPeZWWs46Nu44uBuNrLcvWNmlhEHfTOzjDjom5llxH36Vnke12/2Gw76lpX+F4p9ELDcuHvHzCwjDvpmZhlx0Dczy4j79G1C84+5zIbGQX8YHHDMbKJx946ZWUYc9M3MMuKgb2aWEQd9M7OMOOibmWXEo3eGyCN2qsX35bHcuKVvZpYRB30zs4y4e6cJ7tIxs6pwS9/MLCMO+mZmGRk06EuaJuluSY9IeljSBSn9MEmdkjakv5NTuiRdKalb0gOSji+VtTDl3yBp4chtlpmZDaSZlv5O4DMRMROYBZwvaSawBFgTETOANWkeYB4wI70WA1dBcZAAlgInAicAS+sHCjMzGx2DBv2I2BwRP0vTzwPrgTZgPrA8ZVsOnJWm5wPXR+EeYJKkI4E5QGdE9EXENqATmNvKjTEzsz0bUp++pA7gvcBaYGpEbE6LtgBT03QbsLH0tp6U1ii9/zoWS+qS1NXb2zuU6pmZ2SCaDvqSDgG+A3w6Ip4rL4uIAKIVFYqIZRFRi4jalClTWlGkmZklTQV9SftRBPwbI+K7Kfnp1G1D+rs1pW8CppXe3p7SGqWbmdkoaWb0joBrgPUR8fXSolVAfQTOQuC2Uvq5aRTPLGBH6ga6E5gtaXK6gDs7pZmZ2Shp5he5HwA+Djwo6f6U9nngUmCFpEXAk8DZadlq4HSgG3gJOA8gIvokfRm4N+W7OCL6WrERZmbWnEGDfkT8GFCDxacNkD+A8xuUdS1w7VAqOFZ86wUzqyL/ItfMLCMO+mZmGXHQNzPLiIO+mVlGHPTNzDLioG9mlhE/Ocss8UPSLQdu6ZuZZcRB38wsIw76ZmYZcdA3M8uIg76ZWUYc9M3MMuIhmyW+s6aZVZ1b+mZmGXHQNzPLiIO+mVlGHPTNzDLiC7lmA/B9eKyq3NI3M8uIg76ZWUay797x2Hwzy4lb+mZmGXHQNzPLiIO+mVlGHPTNzDIyaNCXdK2krZIeKqUdJqlT0ob0d3JKl6QrJXVLekDS8aX3LEz5N0haODKbY9Z6HUvu2PUym+iaaelfB8ztl7YEWBMRM4A1aR5gHjAjvRYDV0FxkACWAicCJwBL6wcKMzMbPYMG/Yj4Z6CvX/J8YHmaXg6cVUq/Pgr3AJMkHQnMATojoi8itgGdvPFAYmZmI2xv+/SnRsTmNL0FmJqm24CNpXw9Ka1R+htIWiypS1JXb2/vXlbPzMwGMuwfZ0VESIpWVCaVtwxYBlCr1VpWrlkr+J48NtHtbUv/6dRtQ/q7NaVvAqaV8rWntEbpZmY2ivY26K8C6iNwFgK3ldLPTaN4ZgE7UjfQncBsSZPTBdzZKc3MzEbRoN07km4CTgGOkNRDMQrnUmCFpEXAk8DZKftq4HSgG3gJOA8gIvokfRm4N+W7OCL6Xxw2m1Dc1WMTkSLGb7d5rVaLrq6uEV2Hx15bq/kAYGNN0rqIqA20zL/INTPLSJa3Vnbr3kZSo++XzwBsPMgy6JuNBV8DsPHA3TtmZhlx0Dczy4i7d8zGgPv9baw46JuNI80MMvCBwYbD3TtmZhlxS99sgmk0Csijg6wZbumbmWXELX2zCazRNQBfG7BGHPTNMrWnA4MPCNXloG9mb9DMkFJfQ5iYsrnLpu+3Yzb6fJAYG3u6y6Zb+mY26nwAGDsO+mY2Ypo5wx7qr5N9wBgeB30zG5dadcDwQWJ3Dvpmlr2c7oXkoG9mlTOc3y/szTom0sHBQd/MrElDPZg0c12imfyt5KBvZtbAcM8MxuNQcd97x8wsIw76ZmYZcdA3M8uIg76ZWUYqfSF3PF5EMTMbS6Pe0pc0V9JjkrolLRnt9ZuZ5WxUg76kfYBvAvOAmcAfSZo5mnUwM8vZaLf0TwC6I+IXEfEKcDMwf5TrYGaWrdHu028DNpbme4ATyxkkLQYWp9kXJD02zHUeATwzzDImGm9zHrzNFaPL3pC0t9v79kYLxt2F3IhYBixrVXmSuho9TKCqvM158DZX30hs72h372wCppXm21OamZmNgtEO+vcCMyRNl7Q/sABYNcp1MDPL1qh270TETkl/CtwJ7ANcGxEPj/BqW9ZVNIF4m/Pgba6+lm/vuH4wupmZtZZvw2BmlhEHfTOzjFQ66Ff9lg+Spkm6W9Ijkh6WdEFKP0xSp6QN6e/ksa5rq0naR9J9km5P89MlrU37+pY0UKAyJE2StFLSo5LWSzqp6vtZ0p+l7/VDkm6SdGDV9rOkayVtlfRQKW3A/arClWnbH5B0/N6ss7JBP5NbPuwEPhMRM4FZwPlpG5cAayJiBrAmzVfNBcD60vxlwOURcTSwDVg0JrUaOVcAP4iIY4D3UGx7ZfezpDbgvwG1iHg3xcCPBVRvP18HzO2X1mi/zgNmpNdi4Kq9WWFlgz4Z3PIhIjZHxM/S9PMUgaCNYjuXp2zLgbPGpIIjRFI7cAZwdZoXcCqwMmWp1DZLOhT4IHANQES8EhHbqfh+phhdeJCkfYE3A5up2H6OiH8G+volN9qv84Hro3APMEnSkUNdZ5WD/kC3fGgbo7qMOEkdwHuBtcDUiNicFm0Bpo5VvUbIN4ALgdfT/OHA9ojYmeartq+nA73At1OX1tWSDqbC+zkiNgFfA35FEex3AOuo9n6ua7RfWxLTqhz0syHpEOA7wKcj4rnysijG5FZmXK6kDwNbI2LdWNdlFO0LHA9cFRHvBV6kX1dOBffzZIqW7XTgKOBg3tgNUnkjsV+rHPSzuOWDpP0oAv6NEfHdlPx0/bQv/d06VvUbAR8APiLpCYouu1Mp+rsnpW4AqN6+7gF6ImJtml9JcRCo8n7+EPDLiOiNiFeB71Ls+yrv57pG+7UlMa3KQb/yt3xIfdnXAOsj4uulRauAhWl6IXDbaNdtpETERRHRHhEdFPv0rog4B7gb+FjKVrVt3gJslPSulHQa8AgV3s8U3TqzJL05fc/r21zZ/VzSaL+uAs5No3hmATtK3UDNi4jKvoDTgX8FHge+MNb1GYHtO5ni1O8B4P70Op2ij3sNsAH4EXDYWNd1hLb/FOD2NP0O4KdAN/APwAFjXb8Wb+txQFfa198DJld9PwNfAh4FHgJuAA6o2n4GbqK4ZvEqxRndokb7FRDFiMTHgQcpRjYNeZ2+DYOZWUaq3L1jZmb9OOibmWXEQd/MLCMO+mZmGXHQNzPLiIO+mVlGHPTNzDLy/wGIeixU5yeiHQAAAABJRU5ErkJggg==\n",
      "text/plain": [
       "<Figure size 432x288 with 1 Axes>"
      ]
     },
     "metadata": {
      "needs_background": "light"
     },
     "output_type": "display_data"
    }
   ],
   "source": [
    "max_len = 100\n",
    "min_len = 1\n",
    "\n",
    "# 길이 조건에 맞는 문장 선택\n",
    "filtered_corpus = [s for s in cleaned_corpus if (len(s) < max_len) & (len(s) >= min_len)]\n",
    "\n",
    "sentence_length = np.zeros((max_len), dtype=int)\n",
    "\n",
    "for sen in filtered_corpus:\n",
    "    sentence_length[len(sen)-1] += 1\n",
    "\n",
    "plt.bar(range(max_len), sentence_length, width=1.0)\n",
    "plt.title(\"Sentence Length Distribution\")\n",
    "plt.show()"
   ]
  },
  {
   "cell_type": "markdown",
   "id": "548f9dc0",
   "metadata": {},
   "source": [
    "## 2. 네이버 영화리뷰 감정 분석 코퍼스에 SentencePiece를 적용시킨 모델 학습하기"
   ]
  },
  {
   "cell_type": "code",
   "execution_count": 31,
   "id": "7a946dee",
   "metadata": {},
   "outputs": [
    {
     "name": "stderr",
     "output_type": "stream",
     "text": [
      "sentencepiece_trainer.cc(177) LOG(INFO) Running command: --input=/aiffel/aiffel/Going_Deeper_NLP/GD_NLP_1/sp_tokenizer/data/korean-english-park.train.ko.temp --model_prefix=naver_review_spm --vocab_size=8000\n",
      "sentencepiece_trainer.cc(77) LOG(INFO) Starts training with : \n",
      "trainer_spec {\n",
      "  input: /aiffel/aiffel/Going_Deeper_NLP/GD_NLP_1/sp_tokenizer/data/korean-english-park.train.ko.temp\n",
      "  input_format: \n",
      "  model_prefix: naver_review_spm\n",
      "  model_type: UNIGRAM\n",
      "  vocab_size: 8000\n",
      "  self_test_sample_size: 0\n",
      "  character_coverage: 0.9995\n",
      "  input_sentence_size: 0\n",
      "  shuffle_input_sentence: 1\n",
      "  seed_sentencepiece_size: 1000000\n",
      "  shrinking_factor: 0.75\n",
      "  max_sentence_length: 4192\n",
      "  num_threads: 16\n",
      "  num_sub_iterations: 2\n",
      "  max_sentencepiece_length: 16\n",
      "  split_by_unicode_script: 1\n",
      "  split_by_number: 1\n",
      "  split_by_whitespace: 1\n",
      "  split_digits: 0\n",
      "  treat_whitespace_as_suffix: 0\n",
      "  allow_whitespace_only_pieces: 0\n",
      "  required_chars: \n",
      "  byte_fallback: 0\n",
      "  vocabulary_output_piece_score: 1\n",
      "  train_extremely_large_corpus: 0\n",
      "  hard_vocab_limit: 1\n",
      "  use_all_vocab: 0\n",
      "  unk_id: 0\n",
      "  bos_id: 1\n",
      "  eos_id: 2\n",
      "  pad_id: -1\n",
      "  unk_piece: <unk>\n",
      "  bos_piece: <s>\n",
      "  eos_piece: </s>\n",
      "  pad_piece: <pad>\n",
      "  unk_surface:  ⁇ \n",
      "}\n",
      "normalizer_spec {\n",
      "  name: nmt_nfkc\n",
      "  add_dummy_prefix: 1\n",
      "  remove_extra_whitespaces: 1\n",
      "  escape_whitespaces: 1\n",
      "  normalization_rule_tsv: \n",
      "}\n",
      "denormalizer_spec {}\n",
      "trainer_interface.cc(329) LOG(INFO) SentenceIterator is not specified. Using MultiFileSentenceIterator.\n",
      "trainer_interface.cc(178) LOG(INFO) Loading corpus: /aiffel/aiffel/Going_Deeper_NLP/GD_NLP_1/sp_tokenizer/data/korean-english-park.train.ko.temp\n",
      "trainer_interface.cc(385) LOG(INFO) Loaded all 182722 sentences\n",
      "trainer_interface.cc(400) LOG(INFO) Adding meta_piece: <unk>\n",
      "trainer_interface.cc(400) LOG(INFO) Adding meta_piece: <s>\n",
      "trainer_interface.cc(400) LOG(INFO) Adding meta_piece: </s>\n",
      "trainer_interface.cc(405) LOG(INFO) Normalizing sentences...\n",
      "trainer_interface.cc(466) LOG(INFO) all chars count=5723670\n",
      "trainer_interface.cc(477) LOG(INFO) Done: 99.9501% characters are covered.\n",
      "trainer_interface.cc(487) LOG(INFO) Alphabet size=1730\n",
      "trainer_interface.cc(488) LOG(INFO) Final character coverage=0.9995\n",
      "trainer_interface.cc(520) LOG(INFO) Done! preprocessed 182722 sentences.\n",
      "unigram_model_trainer.cc(139) LOG(INFO) Making suffix array...\n",
      "unigram_model_trainer.cc(143) LOG(INFO) Extracting frequent sub strings...\n",
      "unigram_model_trainer.cc(194) LOG(INFO) Initialized 317243 seed sentencepieces\n",
      "trainer_interface.cc(526) LOG(INFO) Tokenizing input sentences with whitespace: 182722\n",
      "trainer_interface.cc(537) LOG(INFO) Done! 367780\n",
      "unigram_model_trainer.cc(489) LOG(INFO) Using 367780 sentences for EM training\n",
      "unigram_model_trainer.cc(505) LOG(INFO) EM sub_iter=0 size=160706 obj=15.2936 num_tokens=865530 num_tokens/piece=5.3858\n",
      "unigram_model_trainer.cc(505) LOG(INFO) EM sub_iter=1 size=148888 obj=14.2141 num_tokens=870994 num_tokens/piece=5.84999\n",
      "unigram_model_trainer.cc(505) LOG(INFO) EM sub_iter=0 size=111604 obj=14.3086 num_tokens=907605 num_tokens/piece=8.13237\n",
      "unigram_model_trainer.cc(505) LOG(INFO) EM sub_iter=1 size=111389 obj=14.2551 num_tokens=908040 num_tokens/piece=8.15197\n",
      "unigram_model_trainer.cc(505) LOG(INFO) EM sub_iter=0 size=83538 obj=14.4816 num_tokens=952983 num_tokens/piece=11.4078\n",
      "unigram_model_trainer.cc(505) LOG(INFO) EM sub_iter=1 size=83528 obj=14.4231 num_tokens=953028 num_tokens/piece=11.4097\n",
      "unigram_model_trainer.cc(505) LOG(INFO) EM sub_iter=0 size=62645 obj=14.6744 num_tokens=995933 num_tokens/piece=15.898\n",
      "unigram_model_trainer.cc(505) LOG(INFO) EM sub_iter=1 size=62644 obj=14.6159 num_tokens=995983 num_tokens/piece=15.8991\n",
      "unigram_model_trainer.cc(505) LOG(INFO) EM sub_iter=0 size=46983 obj=14.8978 num_tokens=1042073 num_tokens/piece=22.1798\n",
      "unigram_model_trainer.cc(505) LOG(INFO) EM sub_iter=1 size=46983 obj=14.8359 num_tokens=1042131 num_tokens/piece=22.181\n",
      "unigram_model_trainer.cc(505) LOG(INFO) EM sub_iter=0 size=35237 obj=15.1476 num_tokens=1089235 num_tokens/piece=30.9117\n",
      "unigram_model_trainer.cc(505) LOG(INFO) EM sub_iter=1 size=35237 obj=15.0835 num_tokens=1089265 num_tokens/piece=30.9125\n",
      "unigram_model_trainer.cc(505) LOG(INFO) EM sub_iter=0 size=26427 obj=15.4312 num_tokens=1137641 num_tokens/piece=43.0484\n",
      "unigram_model_trainer.cc(505) LOG(INFO) EM sub_iter=1 size=26427 obj=15.3615 num_tokens=1137658 num_tokens/piece=43.0491\n",
      "unigram_model_trainer.cc(505) LOG(INFO) EM sub_iter=0 size=19820 obj=15.74 num_tokens=1189333 num_tokens/piece=60.0067\n",
      "unigram_model_trainer.cc(505) LOG(INFO) EM sub_iter=1 size=19820 obj=15.6614 num_tokens=1189351 num_tokens/piece=60.0076\n",
      "unigram_model_trainer.cc(505) LOG(INFO) EM sub_iter=0 size=14865 obj=16.0751 num_tokens=1244251 num_tokens/piece=83.7034\n",
      "unigram_model_trainer.cc(505) LOG(INFO) EM sub_iter=1 size=14865 obj=15.9855 num_tokens=1244270 num_tokens/piece=83.7047\n",
      "unigram_model_trainer.cc(505) LOG(INFO) EM sub_iter=0 size=11148 obj=16.4398 num_tokens=1302540 num_tokens/piece=116.841\n",
      "unigram_model_trainer.cc(505) LOG(INFO) EM sub_iter=1 size=11148 obj=16.3394 num_tokens=1302573 num_tokens/piece=116.844\n",
      "unigram_model_trainer.cc(505) LOG(INFO) EM sub_iter=0 size=8800 obj=16.7556 num_tokens=1353552 num_tokens/piece=153.813\n",
      "unigram_model_trainer.cc(505) LOG(INFO) EM sub_iter=1 size=8800 obj=16.6536 num_tokens=1353893 num_tokens/piece=153.851\n",
      "trainer_interface.cc(615) LOG(INFO) Saving model: naver_review_spm.model\n",
      "trainer_interface.cc(626) LOG(INFO) Saving vocabs: naver_review_spm.vocab\n",
      "sentencepiece_trainer.cc(177) LOG(INFO) Running command: --input=/aiffel/aiffel/Going_Deeper_NLP/GD_NLP_1/sp_tokenizer/data/korean-english-park.train.ko.temp --model_type=bpe --model_prefix=naver_review_spm_bpe --vocab_size=8000\n",
      "sentencepiece_trainer.cc(77) LOG(INFO) Starts training with : \n",
      "trainer_spec {\n",
      "  input: /aiffel/aiffel/Going_Deeper_NLP/GD_NLP_1/sp_tokenizer/data/korean-english-park.train.ko.temp\n",
      "  input_format: \n",
      "  model_prefix: naver_review_spm_bpe\n",
      "  model_type: BPE\n",
      "  vocab_size: 8000\n",
      "  self_test_sample_size: 0\n",
      "  character_coverage: 0.9995\n",
      "  input_sentence_size: 0\n",
      "  shuffle_input_sentence: 1\n",
      "  seed_sentencepiece_size: 1000000\n",
      "  shrinking_factor: 0.75\n",
      "  max_sentence_length: 4192\n",
      "  num_threads: 16\n",
      "  num_sub_iterations: 2\n",
      "  max_sentencepiece_length: 16\n",
      "  split_by_unicode_script: 1\n",
      "  split_by_number: 1\n",
      "  split_by_whitespace: 1\n",
      "  split_digits: 0\n",
      "  treat_whitespace_as_suffix: 0\n",
      "  allow_whitespace_only_pieces: 0\n",
      "  required_chars: \n",
      "  byte_fallback: 0\n",
      "  vocabulary_output_piece_score: 1\n",
      "  train_extremely_large_corpus: 0\n",
      "  hard_vocab_limit: 1\n",
      "  use_all_vocab: 0\n",
      "  unk_id: 0\n",
      "  bos_id: 1\n",
      "  eos_id: 2\n",
      "  pad_id: -1\n",
      "  unk_piece: <unk>\n",
      "  bos_piece: <s>\n",
      "  eos_piece: </s>\n",
      "  pad_piece: <pad>\n",
      "  unk_surface:  ⁇ \n",
      "}\n",
      "normalizer_spec {\n",
      "  name: nmt_nfkc\n",
      "  add_dummy_prefix: 1\n",
      "  remove_extra_whitespaces: 1\n",
      "  escape_whitespaces: 1\n",
      "  normalization_rule_tsv: \n",
      "}\n",
      "denormalizer_spec {}\n",
      "trainer_interface.cc(329) LOG(INFO) SentenceIterator is not specified. Using MultiFileSentenceIterator.\n",
      "trainer_interface.cc(178) LOG(INFO) Loading corpus: /aiffel/aiffel/Going_Deeper_NLP/GD_NLP_1/sp_tokenizer/data/korean-english-park.train.ko.temp\n",
      "trainer_interface.cc(385) LOG(INFO) Loaded all 182722 sentences\n",
      "trainer_interface.cc(400) LOG(INFO) Adding meta_piece: <unk>\n",
      "trainer_interface.cc(400) LOG(INFO) Adding meta_piece: <s>\n",
      "trainer_interface.cc(400) LOG(INFO) Adding meta_piece: </s>\n",
      "trainer_interface.cc(405) LOG(INFO) Normalizing sentences...\n",
      "trainer_interface.cc(466) LOG(INFO) all chars count=5723670\n",
      "trainer_interface.cc(477) LOG(INFO) Done: 99.9501% characters are covered.\n",
      "trainer_interface.cc(487) LOG(INFO) Alphabet size=1730\n",
      "trainer_interface.cc(488) LOG(INFO) Final character coverage=0.9995\n",
      "trainer_interface.cc(520) LOG(INFO) Done! preprocessed 182722 sentences.\n",
      "trainer_interface.cc(526) LOG(INFO) Tokenizing input sentences with whitespace: 182722\n",
      "trainer_interface.cc(537) LOG(INFO) Done! 367780\n",
      "bpe_model_trainer.cc(167) LOG(INFO) Updating active symbols. max_freq=83753 min_freq=89\n",
      "bpe_model_trainer.cc(258) LOG(INFO) Added: freq=12055 size=20 all=112474 active=10754 piece=▁재미\n",
      "bpe_model_trainer.cc(258) LOG(INFO) Added: freq=9441 size=40 all=116269 active=14549 piece=▁안\n",
      "bpe_model_trainer.cc(258) LOG(INFO) Added: freq=6588 size=60 all=120175 active=18455 piece=▁모\n",
      "bpe_model_trainer.cc(258) LOG(INFO) Added: freq=5446 size=80 all=124878 active=23158 piece=배우\n",
      "bpe_model_trainer.cc(258) LOG(INFO) Added: freq=4475 size=100 all=127684 active=25964 piece=▁느\n",
      "bpe_model_trainer.cc(167) LOG(INFO) Updating active symbols. max_freq=4461 min_freq=75\n",
      "bpe_model_trainer.cc(258) LOG(INFO) Added: freq=3880 size=120 all=131208 active=9874 piece=▁것\n",
      "bpe_model_trainer.cc(258) LOG(INFO) Added: freq=3413 size=140 all=133841 active=12507 piece=;;\n",
      "bpe_model_trainer.cc(258) LOG(INFO) Added: freq=3076 size=160 all=136487 active=15153 piece=▁고\n",
      "bpe_model_trainer.cc(258) LOG(INFO) Added: freq=2760 size=180 all=138737 active=17403 piece=!!!\n",
      "bpe_model_trainer.cc(258) LOG(INFO) Added: freq=2589 size=200 all=141182 active=19848 piece=▁바\n",
      "bpe_model_trainer.cc(167) LOG(INFO) Updating active symbols. max_freq=2580 min_freq=66\n",
      "bpe_model_trainer.cc(258) LOG(INFO) Added: freq=2316 size=220 all=143832 active=9591 piece=적이\n",
      "bpe_model_trainer.cc(258) LOG(INFO) Added: freq=2169 size=240 all=146335 active=12094 piece=▁잼\n",
      "bpe_model_trainer.cc(258) LOG(INFO) Added: freq=1999 size=260 all=148790 active=14549 piece=▁모르\n",
      "bpe_model_trainer.cc(258) LOG(INFO) Added: freq=1883 size=280 all=151132 active=16891 piece=▁음\n",
      "bpe_model_trainer.cc(258) LOG(INFO) Added: freq=1778 size=300 all=153530 active=19288 piece=▁동\n",
      "bpe_model_trainer.cc(167) LOG(INFO) Updating active symbols. max_freq=1777 min_freq=59\n",
      "bpe_model_trainer.cc(258) LOG(INFO) Added: freq=1662 size=320 all=156084 active=10136 piece=만에\n",
      "bpe_model_trainer.cc(258) LOG(INFO) Added: freq=1559 size=340 all=157942 active=11994 piece=진짜\n",
      "bpe_model_trainer.cc(258) LOG(INFO) Added: freq=1442 size=360 all=160390 active=14442 piece=사람\n",
      "bpe_model_trainer.cc(258) LOG(INFO) Added: freq=1403 size=380 all=162417 active=16469 piece=아서\n",
      "bpe_model_trainer.cc(258) LOG(INFO) Added: freq=1352 size=400 all=164129 active=18181 piece=▁..\n",
      "bpe_model_trainer.cc(167) LOG(INFO) Updating active symbols. max_freq=1352 min_freq=54\n",
      "bpe_model_trainer.cc(258) LOG(INFO) Added: freq=1293 size=420 all=166049 active=10108 piece=하면\n",
      "bpe_model_trainer.cc(258) LOG(INFO) Added: freq=1228 size=440 all=167817 active=11876 piece=▁원작\n",
      "bpe_model_trainer.cc(258) LOG(INFO) Added: freq=1180 size=460 all=169561 active=13620 piece=▁머\n",
      "bpe_model_trainer.cc(258) LOG(INFO) Added: freq=1120 size=480 all=171110 active=15169 piece=▁전개\n",
      "bpe_model_trainer.cc(258) LOG(INFO) Added: freq=1080 size=500 all=173125 active=17184 piece=▁추천\n",
      "bpe_model_trainer.cc(167) LOG(INFO) Updating active symbols. max_freq=1077 min_freq=50\n",
      "bpe_model_trainer.cc(258) LOG(INFO) Added: freq=1036 size=520 all=174525 active=10005 piece=▁뭔가\n",
      "bpe_model_trainer.cc(258) LOG(INFO) Added: freq=991 size=540 all=175535 active=11015 piece=▁잔잔\n",
      "bpe_model_trainer.cc(258) LOG(INFO) Added: freq=958 size=560 all=177639 active=13119 piece=하네\n",
      "bpe_model_trainer.cc(258) LOG(INFO) Added: freq=929 size=580 all=179774 active=15254 piece=▁즐\n",
      "bpe_model_trainer.cc(258) LOG(INFO) Added: freq=909 size=600 all=181456 active=16936 piece=수가\n",
      "bpe_model_trainer.cc(167) LOG(INFO) Updating active symbols. max_freq=909 min_freq=47\n",
      "bpe_model_trainer.cc(258) LOG(INFO) Added: freq=885 size=620 all=183960 active=11431 piece=▁아쉽\n",
      "bpe_model_trainer.cc(258) LOG(INFO) Added: freq=853 size=640 all=185480 active=12951 piece=해요\n",
      "bpe_model_trainer.cc(258) LOG(INFO) Added: freq=826 size=660 all=187832 active=15303 piece=▁아름다운\n",
      "bpe_model_trainer.cc(258) LOG(INFO) Added: freq=797 size=680 all=189349 active=16820 piece=리스\n",
      "bpe_model_trainer.cc(258) LOG(INFO) Added: freq=775 size=700 all=191121 active=18592 piece=싶다\n",
      "bpe_model_trainer.cc(167) LOG(INFO) Updating active symbols. max_freq=775 min_freq=43\n",
      "bpe_model_trainer.cc(258) LOG(INFO) Added: freq=752 size=720 all=193027 active=11403 piece=▁^^\n",
      "bpe_model_trainer.cc(258) LOG(INFO) Added: freq=727 size=740 all=194099 active=12475 piece=▁중간\n",
      "bpe_model_trainer.cc(258) LOG(INFO) Added: freq=710 size=760 all=195717 active=14093 piece=▁무서\n",
      "bpe_model_trainer.cc(258) LOG(INFO) Added: freq=691 size=780 all=197054 active=15430 piece=▁나도\n",
      "bpe_model_trainer.cc(258) LOG(INFO) Added: freq=678 size=800 all=198520 active=16896 piece=▁언제\n",
      "bpe_model_trainer.cc(167) LOG(INFO) Updating active symbols. max_freq=678 min_freq=41\n",
      "bpe_model_trainer.cc(258) LOG(INFO) Added: freq=662 size=820 all=200549 active=11903 piece=▁산\n",
      "bpe_model_trainer.cc(258) LOG(INFO) Added: freq=649 size=840 all=201472 active=12826 piece=▁각\n",
      "bpe_model_trainer.cc(258) LOG(INFO) Added: freq=635 size=860 all=202393 active=13747 piece=▁황\n",
      "bpe_model_trainer.cc(258) LOG(INFO) Added: freq=624 size=880 all=203944 active=15298 piece="
     ]
    },
    {
     "name": "stdout",
     "output_type": "stream",
     "text": [
      "-rw-r--r-- 1 root root 370654 Jun 26 03:38 naver_review_spm_bpe.model\r\n",
      "-rw-r--r-- 1 root root 115824 Jun 26 03:38 naver_review_spm_bpe.vocab\r\n",
      "-rw-r--r-- 1 root root 375118 Jun 26 03:37 naver_review_spm.model\r\n",
      "-rw-r--r-- 1 root root 144518 Jun 26 03:37 naver_review_spm.vocab\r\n"
     ]
    }
   ],
   "source": [
    "temp_file = os.getenv('HOME')+'/aiffel/Going_Deeper_NLP/GD_NLP_1/sp_tokenizer/data/korean-english-park.train.ko.temp'\n",
    "\n",
    "vocab_size = 8000\n",
    "\n",
    "with open(temp_file, 'w') as f:\n",
    "    for row in filtered_corpus:   # 이전 스텝에서 정제했던 corpus를 활용\n",
    "        f.write(str(row) + '\\n')\n",
    "\n",
    "# 디폴트 --model_type = 'unigram'\n",
    "spm.SentencePieceTrainer.Train(\n",
    "    '--input={} --model_prefix=naver_review_spm --vocab_size={}'.format(temp_file, vocab_size)    \n",
    ")\n",
    "\n",
    "# --model_type = 'bpe'\n",
    "spm.SentencePieceTrainer.Train(\n",
    "    '--input={} --model_type=bpe --model_prefix=naver_review_spm_bpe --vocab_size={}'.format(temp_file, vocab_size)    \n",
    ")\n",
    "\n",
    "!ls -l naver_review_spm*"
   ]
  },
  {
   "cell_type": "markdown",
   "id": "fb453796",
   "metadata": {},
   "source": [
    "#### 모델 적용 확인"
   ]
  },
  {
   "cell_type": "code",
   "execution_count": 32,
   "id": "1af0173d",
   "metadata": {},
   "outputs": [
    {
     "name": "stdout",
     "output_type": "stream",
     "text": [
      "[1510, 10, 425, 15, 1345, 10, 137, 17, 4]\n",
      "['▁아버지', '가', '방', '에', '들어', '가', '신', '다', '.']\n",
      "아버지가방에들어가신다.\n"
     ]
    }
   ],
   "source": [
    "# Unigram 타입에 sentencepiece 모델이 잘 적용됐는지 확인해보기\n",
    "s_uni = spm.SentencePieceProcessor() \n",
    "s_uni.Load('naver_review_spm.model') # unigram 타입 model\n",
    "\n",
    "# SentencePiece를 활용한 sentence -> encoding\n",
    "tokensIDs = s_uni.EncodeAsIds('아버지가방에들어가신다.')\n",
    "print(tokensIDs)\n",
    "\n",
    "# SentencePiece를 활용한 sentence -> encoded pieces\n",
    "print(s_uni.SampleEncodeAsPieces('아버지가방에들어가신다.',1, 0.0))\n",
    "\n",
    "# SentencePiece를 활용한 encoding -> sentence 복원\n",
    "print(s_uni.DecodeIds(tokensIDs))"
   ]
  },
  {
   "cell_type": "code",
   "execution_count": 33,
   "id": "14614dbd",
   "metadata": {},
   "outputs": [
    {
     "name": "stdout",
     "output_type": "stream",
     "text": [
      "[5065, 913, 6551, 6283, 1472, 6279, 6385, 6273, 6271]\n",
      "['▁아버', '지가', '방', '에', '들어', '가', '신', '다', '.']\n",
      "아버지가방에들어가신다.\n"
     ]
    }
   ],
   "source": [
    "# BPE 타입에 sentencepiece 모델이 잘 적용됐는지 확인해보기\n",
    "s_bpe = spm.SentencePieceProcessor() \n",
    "s_bpe.Load('naver_review_spm_bpe.model') # bpe 타입 model\n",
    "\n",
    "# SentencePiece를 활용한 sentence -> encoding\n",
    "tokensIDs = s_bpe.EncodeAsIds('아버지가방에들어가신다.')\n",
    "print(tokensIDs)\n",
    "\n",
    "# SentencePiece를 활용한 sentence -> encoded pieces\n",
    "print(s_bpe.SampleEncodeAsPieces('아버지가방에들어가신다.',1, 0.0))\n",
    "\n",
    "# SentencePiece를 활용한 encoding -> sentence 복원\n",
    "print(s_bpe.DecodeIds(tokensIDs))"
   ]
  },
  {
   "cell_type": "markdown",
   "id": "3466fc95",
   "metadata": {},
   "source": [
    "## 3. 학습된 모델로 sp_tokenize() 메소드 구현하기"
   ]
  },
  {
   "cell_type": "code",
   "execution_count": 36,
   "id": "6e283ab9",
   "metadata": {},
   "outputs": [
    {
     "name": "stdout",
     "output_type": "stream",
     "text": [
      "[[   0    0    0    0    0    0    0    0    0    0    0    0    0    0\n",
      "     0    0    0    0    0    0    0    0    0    0    0    0    0    0\n",
      "     0    0    0    0    0    0    0    0    0    0    0    0    0    0\n",
      "     0    0    0    0    0    0    0    0    0    0    0    0    0    0\n",
      "     0    0    0    0    0    0    0    0    0    0    0    0    0    0\n",
      "     0    0    0    0    0    0    0    0    0    0    0    0    0    0\n",
      "     0    0    0    0    0    0    0    0    0    0  563 3385   14 1389\n",
      "  2226    4]\n",
      " [   0    0    0    0    0    0    0    0    0    0    0    0    0    0\n",
      "     0    0    0    0    0    0    0    0    0    0    0    0    0    0\n",
      "     0    0    0    0    0    0    0    0    0    0    0    0    0    0\n",
      "     0    0    0    0    0    0    0    0    0    0    0    0    0    0\n",
      "     0    0    0    0    0    0    0    0    0    0    0    0    0    0\n",
      "     0    0    0    0    0    0    0    0    0    0    0    0    0    0\n",
      "     0    0    0    0    0    0 1584 2280  253  589   10    3   16 7937\n",
      "   684    8]]\n",
      "(195339, 100)\n"
     ]
    }
   ],
   "source": [
    "# Unigram 타입\n",
    "def sp_tokenize_uni(s_uni, corpus):\n",
    "\n",
    "    tensor = []\n",
    "\n",
    "    for sen in corpus:\n",
    "        tensor.append(s_uni.EncodeAsIds(sen))\n",
    "\n",
    "    with open(\"./naver_review_spm.vocab\", 'r') as f: # unigram 타입 vocab\n",
    "        vocab = f.readlines()\n",
    "\n",
    "    word_index = {}\n",
    "    index_word = {}\n",
    "\n",
    "    for idx, line in enumerate(vocab):\n",
    "        word = line.split(\"\\t\")[0]\n",
    "\n",
    "        word_index.update({idx:word})\n",
    "        index_word.update({word:idx})\n",
    "\n",
    "    tensor = tf.keras.preprocessing.sequence.pad_sequences(tensor, padding='pre', maxlen = 100)\n",
    "\n",
    "    return tensor, word_index, index_word\n",
    "\n",
    "my_corpus = ['나는 밥을 먹었습니다.', '그러나 여전히 ㅠㅠ 배가 고픕니다...']\n",
    "tensor_uni, word_index_uni, index_word_uni = sp_tokenize_uni(s_uni, my_corpus)\n",
    "print(tensor_uni)\n",
    "\n",
    "tensor_uni, word_index_uni, index_word_uni = sp_tokenize_uni(s_uni, data)\n",
    "print(tensor_uni.shape)"
   ]
  },
  {
   "cell_type": "code",
   "execution_count": 37,
   "id": "7a6eb2e4",
   "metadata": {},
   "outputs": [
    {
     "name": "stdout",
     "output_type": "stream",
     "text": [
      "[[   0    0    0    0    0    0    0    0    0    0    0    0    0    0\n",
      "     0    0    0    0    0    0    0    0    0    0    0    0    0    0\n",
      "     0    0    0    0    0    0    0    0    0    0    0    0    0    0\n",
      "     0    0    0    0    0    0    0    0    0    0    0    0    0    0\n",
      "     0    0    0    0    0    0    0    0    0    0    0    0    0    0\n",
      "     0    0    0    0    0    0    0    0    0    0    0    0    0    0\n",
      "     0    0    0    0    0    0    0    0    0    0  721 3152 6300  567\n",
      "   833 6271]\n",
      " [   0    0    0    0    0    0    0    0    0    0    0    0    0    0\n",
      "     0    0    0    0    0    0    0    0    0    0    0    0    0    0\n",
      "     0    0    0    0    0    0    0    0    0    0    0    0    0    0\n",
      "     0    0    0    0    0    0    0    0    0    0    0    0    0    0\n",
      "     0    0    0    0    0    0    0    0    0    0    0    0    0    0\n",
      "     0    0    0    0    0    0    0    0    0    0    0    0    0    0\n",
      "     0    0    0    0    0    0    0 1684 2307  320  324 6279  162 7622\n",
      "    14    7]]\n",
      "(195339, 100)\n"
     ]
    }
   ],
   "source": [
    "# BPE 타입\n",
    "def sp_tokenize_bpe(s_bpe, corpus):\n",
    "\n",
    "    tensor = []\n",
    "\n",
    "    for sen in corpus:\n",
    "        tensor.append(s_bpe.EncodeAsIds(sen))\n",
    "\n",
    "    with open(\"./naver_review_spm_bpe.vocab\", 'r') as f: # bpe 타입 vocab\n",
    "        vocab = f.readlines()\n",
    "\n",
    "    word_index = {}\n",
    "    index_word = {}\n",
    "\n",
    "    for idx, line in enumerate(vocab):\n",
    "        word = line.split(\"\\t\")[0]\n",
    "\n",
    "        word_index.update({idx:word})\n",
    "        index_word.update({word:idx})\n",
    "\n",
    "    tensor = tf.keras.preprocessing.sequence.pad_sequences(tensor, padding='pre', maxlen = 100)\n",
    "\n",
    "    return tensor, word_index, index_word\n",
    "\n",
    "#sp_tokenize(s, corpus) 사용예제로 확인해\n",
    "my_corpus = ['나는 밥을 먹었습니다.', '그러나 여전히 ㅠㅠ 배가 고픕니다...']\n",
    "tensor_bpe, word_index_bpe, index_word_bpe = sp_tokenize_bpe(s_bpe, my_corpus)\n",
    "print(tensor_bpe)\n",
    "\n",
    "tensor_bpe, word_index_bpe, index_word_bpe = sp_tokenize_bpe(s_bpe, data)\n",
    "print(tensor_bpe.shape)"
   ]
  },
  {
   "cell_type": "markdown",
   "id": "4fc0641b",
   "metadata": {},
   "source": [
    "## 4. 구현된 토크나이저를 적용하여 네이버 영화리뷰 감정 분석 모델을 재학습하기"
   ]
  },
  {
   "cell_type": "code",
   "execution_count": 38,
   "id": "14ef1fff",
   "metadata": {},
   "outputs": [
    {
     "name": "stdout",
     "output_type": "stream",
     "text": [
      "(96182, 100)\n",
      "(96182,)\n"
     ]
    }
   ],
   "source": [
    "# 데이터 분할 - Unigram\n",
    "X_train = tensor_uni[:146182]\n",
    "X_test = tensor_uni[146182:]\n",
    "\n",
    "y_train = np.array(list(train_data['label']))\n",
    "y_test = np.array(list(test_data['label']))\n",
    "\n",
    "# val set 50000건 분리\n",
    "x_val = X_train[:50000]   \n",
    "y_val = y_train[:50000]\n",
    "\n",
    "# val set을 제외한 나머지 \n",
    "partial_X_train = X_train[50000:]  \n",
    "partial_y_train = y_train[50000:]\n",
    "\n",
    "print(partial_X_train.shape)\n",
    "print(partial_y_train.shape)\n"
   ]
  },
  {
   "cell_type": "code",
   "execution_count": 39,
   "id": "86ed1ca2",
   "metadata": {},
   "outputs": [
    {
     "name": "stdout",
     "output_type": "stream",
     "text": [
      "Model: \"sequential\"\n",
      "_________________________________________________________________\n",
      "Layer (type)                 Output Shape              Param #   \n",
      "=================================================================\n",
      "embedding (Embedding)        (None, None, 16)          160000    \n",
      "_________________________________________________________________\n",
      "lstm (LSTM)                  (None, 12)                1392      \n",
      "_________________________________________________________________\n",
      "dense (Dense)                (None, 8)                 104       \n",
      "_________________________________________________________________\n",
      "dense_1 (Dense)              (None, 1)                 9         \n",
      "=================================================================\n",
      "Total params: 161,505\n",
      "Trainable params: 161,505\n",
      "Non-trainable params: 0\n",
      "_________________________________________________________________\n"
     ]
    }
   ],
   "source": [
    "vocab_size = 10000    \n",
    "word_vector_dim = 16\n",
    "\n",
    "model_rnn = keras.Sequential()\n",
    "model_rnn.add(keras.layers.Embedding(vocab_size, word_vector_dim, input_shape=(None,)))\n",
    "model_rnn.add(keras.layers.LSTM(12))   \n",
    "model_rnn.add(keras.layers.Dense(8, activation='relu'))\n",
    "model_rnn.add(keras.layers.Dense(1, activation='sigmoid'))  \n",
    "\n",
    "model_rnn.summary()"
   ]
  },
  {
   "cell_type": "code",
   "execution_count": 45,
   "id": "aab9f1f7",
   "metadata": {},
   "outputs": [
    {
     "name": "stdout",
     "output_type": "stream",
     "text": [
      "Epoch 1/30\n",
      "188/188 [==============================] - 4s 11ms/step - loss: 0.2679 - accuracy: 0.8905 - val_loss: 0.3680 - val_accuracy: 0.8495\n",
      "Epoch 2/30\n",
      "188/188 [==============================] - 2s 9ms/step - loss: 0.2534 - accuracy: 0.8993 - val_loss: 0.3659 - val_accuracy: 0.8458\n",
      "Epoch 3/30\n",
      "188/188 [==============================] - 2s 8ms/step - loss: 0.2426 - accuracy: 0.9042 - val_loss: 0.3834 - val_accuracy: 0.8469\n",
      "Epoch 4/30\n",
      "188/188 [==============================] - 2s 8ms/step - loss: 0.2342 - accuracy: 0.9081 - val_loss: 0.3878 - val_accuracy: 0.8460\n",
      "Epoch 5/30\n",
      "188/188 [==============================] - 2s 9ms/step - loss: 0.2233 - accuracy: 0.9128 - val_loss: 0.3976 - val_accuracy: 0.8435\n",
      "Epoch 6/30\n",
      "188/188 [==============================] - 2s 8ms/step - loss: 0.2136 - accuracy: 0.9171 - val_loss: 0.4084 - val_accuracy: 0.8406\n",
      "Epoch 7/30\n",
      "188/188 [==============================] - 2s 9ms/step - loss: 0.2042 - accuracy: 0.9213 - val_loss: 0.4337 - val_accuracy: 0.8398\n",
      "Epoch 8/30\n",
      "188/188 [==============================] - 2s 8ms/step - loss: 0.1959 - accuracy: 0.9260 - val_loss: 0.4447 - val_accuracy: 0.8374\n",
      "Epoch 9/30\n",
      "188/188 [==============================] - 2s 8ms/step - loss: 0.1884 - accuracy: 0.9289 - val_loss: 0.4591 - val_accuracy: 0.8358\n",
      "Epoch 10/30\n",
      "188/188 [==============================] - 2s 8ms/step - loss: 0.1822 - accuracy: 0.9319 - val_loss: 0.4614 - val_accuracy: 0.8338\n",
      "Epoch 11/30\n",
      "188/188 [==============================] - 2s 8ms/step - loss: 0.1745 - accuracy: 0.9353 - val_loss: 0.4880 - val_accuracy: 0.8337\n",
      "Epoch 12/30\n",
      "188/188 [==============================] - 2s 8ms/step - loss: 0.1633 - accuracy: 0.9414 - val_loss: 0.5116 - val_accuracy: 0.8300\n",
      "Epoch 13/30\n",
      "188/188 [==============================] - 2s 8ms/step - loss: 0.1567 - accuracy: 0.9445 - val_loss: 0.5170 - val_accuracy: 0.8292\n",
      "Epoch 14/30\n",
      "188/188 [==============================] - 2s 8ms/step - loss: 0.1524 - accuracy: 0.9469 - val_loss: 0.5249 - val_accuracy: 0.8311\n",
      "Epoch 15/30\n",
      "188/188 [==============================] - 2s 8ms/step - loss: 0.1451 - accuracy: 0.9500 - val_loss: 0.5526 - val_accuracy: 0.8281\n",
      "Epoch 16/30\n",
      "188/188 [==============================] - 2s 8ms/step - loss: 0.1377 - accuracy: 0.9539 - val_loss: 0.5695 - val_accuracy: 0.8270\n",
      "Epoch 17/30\n",
      "188/188 [==============================] - 2s 8ms/step - loss: 0.1335 - accuracy: 0.9551 - val_loss: 0.5895 - val_accuracy: 0.8261\n",
      "Epoch 18/30\n",
      "188/188 [==============================] - 2s 8ms/step - loss: 0.1279 - accuracy: 0.9580 - val_loss: 0.6111 - val_accuracy: 0.8244\n",
      "Epoch 19/30\n",
      "188/188 [==============================] - 2s 8ms/step - loss: 0.1196 - accuracy: 0.9616 - val_loss: 0.6402 - val_accuracy: 0.8252\n",
      "Epoch 20/30\n",
      "188/188 [==============================] - 2s 8ms/step - loss: 0.1223 - accuracy: 0.9605 - val_loss: 0.6514 - val_accuracy: 0.8221\n",
      "Epoch 21/30\n",
      "188/188 [==============================] - 2s 8ms/step - loss: 0.1071 - accuracy: 0.9667 - val_loss: 0.6941 - val_accuracy: 0.8218\n",
      "Epoch 22/30\n",
      "188/188 [==============================] - 2s 8ms/step - loss: 0.1056 - accuracy: 0.9677 - val_loss: 0.6823 - val_accuracy: 0.8189\n",
      "Epoch 23/30\n",
      "188/188 [==============================] - 2s 8ms/step - loss: 0.0991 - accuracy: 0.9697 - val_loss: 0.7274 - val_accuracy: 0.8208\n",
      "Epoch 24/30\n",
      "188/188 [==============================] - 2s 8ms/step - loss: 0.0946 - accuracy: 0.9724 - val_loss: 0.7684 - val_accuracy: 0.8186\n",
      "Epoch 25/30\n",
      "188/188 [==============================] - 2s 9ms/step - loss: 0.0863 - accuracy: 0.9759 - val_loss: 0.7902 - val_accuracy: 0.8164\n",
      "Epoch 26/30\n",
      "188/188 [==============================] - 2s 8ms/step - loss: 0.0920 - accuracy: 0.9724 - val_loss: 0.7903 - val_accuracy: 0.8159\n",
      "Epoch 27/30\n",
      "188/188 [==============================] - 2s 8ms/step - loss: 0.0892 - accuracy: 0.9737 - val_loss: 0.8032 - val_accuracy: 0.8148\n",
      "Epoch 28/30\n",
      "188/188 [==============================] - 2s 8ms/step - loss: 0.1011 - accuracy: 0.9688 - val_loss: 0.7633 - val_accuracy: 0.8169\n",
      "Epoch 29/30\n",
      "188/188 [==============================] - 2s 8ms/step - loss: 0.0790 - accuracy: 0.9783 - val_loss: 0.8364 - val_accuracy: 0.8166\n",
      "Epoch 30/30\n",
      "188/188 [==============================] - 2s 8ms/step - loss: 0.0737 - accuracy: 0.9800 - val_loss: 0.8743 - val_accuracy: 0.8159\n"
     ]
    }
   ],
   "source": [
    "model_rnn.compile(optimizer='adam',\n",
    "              loss='binary_crossentropy',\n",
    "              metrics=['accuracy'])\n",
    "              \n",
    "epochs = 30\n",
    "\n",
    "history_rnn = model_rnn.fit(partial_X_train,\n",
    "                    partial_y_train,\n",
    "                    epochs=epochs,\n",
    "                    batch_size=512,\n",
    "                    validation_data=(x_val, y_val),\n",
    "                    verbose=1)"
   ]
  },
  {
   "cell_type": "code",
   "execution_count": 46,
   "id": "ee50a065",
   "metadata": {},
   "outputs": [
    {
     "name": "stdout",
     "output_type": "stream",
     "text": [
      "1537/1537 - 4s - loss: 0.9056 - accuracy: 0.8090\n",
      "[0.9055547118186951, 0.8089590668678284]\n",
      "dict_keys(['loss', 'accuracy', 'val_loss', 'val_accuracy'])\n"
     ]
    },
    {
     "data": {
      "image/png": "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\n",
      "text/plain": [
       "<Figure size 432x288 with 1 Axes>"
      ]
     },
     "metadata": {
      "needs_background": "light"
     },
     "output_type": "display_data"
    },
    {
     "data": {
      "image/png": "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\n",
      "text/plain": [
       "<Figure size 432x288 with 1 Axes>"
      ]
     },
     "metadata": {
      "needs_background": "light"
     },
     "output_type": "display_data"
    }
   ],
   "source": [
    "# 평가하기\n",
    "results_rnn = model_rnn.evaluate(X_test, y_test, verbose=2)\n",
    "print(results_rnn)\n",
    "\n",
    "history_dict_rnn = history_rnn.history\n",
    "print(history_dict_rnn.keys()) # epoch에 따른 그래프를 그려볼 수 있는 항목들\n",
    "\n",
    "# train과 val의 Loss\n",
    "acc_rnn = history_dict_rnn['accuracy']\n",
    "val_acc_rnn = history_dict_rnn['val_accuracy']\n",
    "loss_rnn = history_dict_rnn['loss']\n",
    "val_loss_rnn = history_dict_rnn['val_loss']\n",
    "\n",
    "epochs_rnn = range(1, len(acc_rnn) + 1)\n",
    "\n",
    "# bo는 파란 점\n",
    "plt.plot(epochs_rnn, loss_rnn, 'bo', label='Training loss')\n",
    "# b는 파란 실선\n",
    "plt.plot(epochs_rnn, val_loss_rnn, 'b', label='Validation loss')\n",
    "plt.title('RNN\\'s Training & validation loss')\n",
    "plt.xlabel('Epochs')\n",
    "plt.ylabel('Loss')\n",
    "plt.legend()\n",
    "\n",
    "plt.show()\n",
    "\n",
    "# train과 val의 accuracy\n",
    "plt.clf()  \n",
    "\n",
    "plt.plot(epochs_rnn, acc_rnn, 'bo', label='Training acc')\n",
    "plt.plot(epochs_rnn, val_acc_rnn, 'b', label='Validation acc')\n",
    "plt.title('RNN\\'s Training and validation accuracy')\n",
    "plt.xlabel('Epochs')\n",
    "plt.ylabel('Accuracy')\n",
    "plt.legend()\n",
    "\n",
    "plt.show()"
   ]
  },
  {
   "cell_type": "code",
   "execution_count": 42,
   "id": "2b8b9dd7",
   "metadata": {},
   "outputs": [
    {
     "name": "stdout",
     "output_type": "stream",
     "text": [
      "(96182, 100)\n",
      "(96182,)\n"
     ]
    }
   ],
   "source": [
    "# 데이터 분할 - BPE\n",
    "X_train = tensor_bpe[:146182]\n",
    "X_test = tensor_bpe[146182:]\n",
    "\n",
    "y_train = np.array(list(train_data['label']))\n",
    "y_test = np.array(list(test_data['label']))\n",
    "\n",
    "# validation set 50000건 분리\n",
    "x_val = X_train[:50000]   \n",
    "y_val = y_train[:50000]\n",
    "\n",
    "# validation set을 제외한 나머지 \n",
    "partial_X_train = X_train[50000:]  \n",
    "partial_y_train = y_train[50000:]\n",
    "\n",
    "print(partial_X_train.shape)\n",
    "print(partial_y_train.shape)"
   ]
  },
  {
   "cell_type": "code",
   "execution_count": 43,
   "id": "1911b1c8",
   "metadata": {},
   "outputs": [
    {
     "name": "stdout",
     "output_type": "stream",
     "text": [
      "Model: \"sequential_1\"\n",
      "_________________________________________________________________\n",
      "Layer (type)                 Output Shape              Param #   \n",
      "=================================================================\n",
      "embedding_1 (Embedding)      (None, None, 16)          160000    \n",
      "_________________________________________________________________\n",
      "lstm_1 (LSTM)                (None, 12)                1392      \n",
      "_________________________________________________________________\n",
      "dense_2 (Dense)              (None, 8)                 104       \n",
      "_________________________________________________________________\n",
      "dense_3 (Dense)              (None, 1)                 9         \n",
      "=================================================================\n",
      "Total params: 161,505\n",
      "Trainable params: 161,505\n",
      "Non-trainable params: 0\n",
      "_________________________________________________________________\n"
     ]
    }
   ],
   "source": [
    "vocab_size = 10000    \n",
    "word_vector_dim = 16\n",
    "\n",
    "model_rnn = keras.Sequential()\n",
    "model_rnn.add(keras.layers.Embedding(vocab_size, word_vector_dim, input_shape=(None,)))\n",
    "model_rnn.add(keras.layers.LSTM(12))   \n",
    "model_rnn.add(keras.layers.Dense(8, activation='relu'))\n",
    "model_rnn.add(keras.layers.Dense(1, activation='sigmoid'))  \n",
    "\n",
    "model_rnn.summary()"
   ]
  },
  {
   "cell_type": "code",
   "execution_count": 47,
   "id": "822b1af4",
   "metadata": {},
   "outputs": [
    {
     "name": "stdout",
     "output_type": "stream",
     "text": [
      "Epoch 1/30\n",
      "188/188 [==============================] - 4s 11ms/step - loss: 0.0794 - accuracy: 0.9764 - val_loss: 0.8370 - val_accuracy: 0.8164\n",
      "Epoch 2/30\n",
      "188/188 [==============================] - 2s 8ms/step - loss: 0.0681 - accuracy: 0.9813 - val_loss: 0.8979 - val_accuracy: 0.8156\n",
      "Epoch 3/30\n",
      "188/188 [==============================] - 2s 8ms/step - loss: 0.0644 - accuracy: 0.9826 - val_loss: 0.9368 - val_accuracy: 0.8144\n",
      "Epoch 4/30\n",
      "188/188 [==============================] - 2s 8ms/step - loss: 0.0632 - accuracy: 0.9825 - val_loss: 1.0374 - val_accuracy: 0.8081\n",
      "Epoch 5/30\n",
      "188/188 [==============================] - 2s 9ms/step - loss: 0.0649 - accuracy: 0.9816 - val_loss: 0.9900 - val_accuracy: 0.8126\n",
      "Epoch 6/30\n",
      "188/188 [==============================] - 2s 8ms/step - loss: 0.0532 - accuracy: 0.9865 - val_loss: 1.0037 - val_accuracy: 0.8149\n",
      "Epoch 7/30\n",
      "188/188 [==============================] - 2s 8ms/step - loss: 0.0549 - accuracy: 0.9853 - val_loss: 1.0371 - val_accuracy: 0.8104\n",
      "Epoch 8/30\n",
      "188/188 [==============================] - 2s 8ms/step - loss: 0.0548 - accuracy: 0.9852 - val_loss: 1.1159 - val_accuracy: 0.8110\n",
      "Epoch 9/30\n",
      "188/188 [==============================] - 2s 8ms/step - loss: 0.0654 - accuracy: 0.9818 - val_loss: 0.9988 - val_accuracy: 0.8160\n",
      "Epoch 10/30\n",
      "188/188 [==============================] - 2s 8ms/step - loss: 0.0618 - accuracy: 0.9822 - val_loss: 1.0302 - val_accuracy: 0.8144\n",
      "Epoch 11/30\n",
      "188/188 [==============================] - 2s 8ms/step - loss: 0.0483 - accuracy: 0.9873 - val_loss: 1.0590 - val_accuracy: 0.8131\n",
      "Epoch 12/30\n",
      "188/188 [==============================] - 2s 8ms/step - loss: 0.0484 - accuracy: 0.9871 - val_loss: 1.1063 - val_accuracy: 0.8099\n",
      "Epoch 13/30\n",
      "188/188 [==============================] - 2s 8ms/step - loss: 0.0431 - accuracy: 0.9893 - val_loss: 1.1514 - val_accuracy: 0.8089\n",
      "Epoch 14/30\n",
      "188/188 [==============================] - 2s 8ms/step - loss: 0.0537 - accuracy: 0.9849 - val_loss: 1.0776 - val_accuracy: 0.8114\n",
      "Epoch 15/30\n",
      "188/188 [==============================] - 2s 8ms/step - loss: 0.0469 - accuracy: 0.9879 - val_loss: 1.1417 - val_accuracy: 0.8091\n",
      "Epoch 16/30\n",
      "188/188 [==============================] - 2s 8ms/step - loss: 0.0423 - accuracy: 0.9890 - val_loss: 1.1808 - val_accuracy: 0.8107\n",
      "Epoch 17/30\n",
      "188/188 [==============================] - 2s 8ms/step - loss: 0.0542 - accuracy: 0.9853 - val_loss: 1.1112 - val_accuracy: 0.8122\n",
      "Epoch 18/30\n",
      "188/188 [==============================] - 2s 9ms/step - loss: 0.0422 - accuracy: 0.9890 - val_loss: 1.1751 - val_accuracy: 0.8156\n",
      "Epoch 19/30\n",
      "188/188 [==============================] - 2s 8ms/step - loss: 0.0364 - accuracy: 0.9908 - val_loss: 1.2152 - val_accuracy: 0.8094\n",
      "Epoch 20/30\n",
      "188/188 [==============================] - 2s 8ms/step - loss: 0.0359 - accuracy: 0.9910 - val_loss: 1.2481 - val_accuracy: 0.8100\n",
      "Epoch 21/30\n",
      "188/188 [==============================] - 2s 8ms/step - loss: 0.0333 - accuracy: 0.9916 - val_loss: 1.2834 - val_accuracy: 0.8113\n",
      "Epoch 22/30\n",
      "188/188 [==============================] - 2s 8ms/step - loss: 0.0316 - accuracy: 0.9920 - val_loss: 1.3246 - val_accuracy: 0.8100\n",
      "Epoch 23/30\n",
      "188/188 [==============================] - 2s 8ms/step - loss: 0.0315 - accuracy: 0.9918 - val_loss: 1.3286 - val_accuracy: 0.8105\n",
      "Epoch 24/30\n",
      "188/188 [==============================] - 2s 9ms/step - loss: 0.0312 - accuracy: 0.9916 - val_loss: 1.3602 - val_accuracy: 0.8108\n",
      "Epoch 25/30\n",
      "188/188 [==============================] - 2s 9ms/step - loss: 0.0284 - accuracy: 0.9923 - val_loss: 1.4246 - val_accuracy: 0.8114\n",
      "Epoch 26/30\n",
      "188/188 [==============================] - 2s 8ms/step - loss: 0.0295 - accuracy: 0.9918 - val_loss: 1.4051 - val_accuracy: 0.8123\n",
      "Epoch 27/30\n",
      "188/188 [==============================] - 2s 8ms/step - loss: 0.0316 - accuracy: 0.9910 - val_loss: 1.4368 - val_accuracy: 0.8121\n",
      "Epoch 28/30\n",
      "188/188 [==============================] - 2s 8ms/step - loss: 0.0322 - accuracy: 0.9909 - val_loss: 1.3949 - val_accuracy: 0.8122\n",
      "Epoch 29/30\n",
      "188/188 [==============================] - 2s 8ms/step - loss: 0.0283 - accuracy: 0.9918 - val_loss: 1.4330 - val_accuracy: 0.8084\n",
      "Epoch 30/30\n",
      "188/188 [==============================] - 2s 8ms/step - loss: 0.0268 - accuracy: 0.9923 - val_loss: 1.4705 - val_accuracy: 0.8097\n"
     ]
    }
   ],
   "source": [
    "model_rnn.compile(optimizer='adam',\n",
    "              loss='binary_crossentropy',\n",
    "              metrics=['accuracy'])\n",
    "              \n",
    "epochs = 30\n",
    "\n",
    "history_rnn = model_rnn.fit(partial_X_train,\n",
    "                    partial_y_train,\n",
    "                    epochs=epochs,\n",
    "                    batch_size=512,\n",
    "                    validation_data=(x_val, y_val),\n",
    "                    verbose=1)"
   ]
  },
  {
   "cell_type": "code",
   "execution_count": 48,
   "id": "19a2018d",
   "metadata": {},
   "outputs": [
    {
     "name": "stdout",
     "output_type": "stream",
     "text": [
      "1537/1537 - 4s - loss: 1.5252 - accuracy: 0.8045\n",
      "[1.5251635313034058, 0.8044835925102234]\n",
      "dict_keys(['loss', 'accuracy', 'val_loss', 'val_accuracy'])\n"
     ]
    },
    {
     "data": {
      "image/png": "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\n",
      "text/plain": [
       "<Figure size 432x288 with 1 Axes>"
      ]
     },
     "metadata": {
      "needs_background": "light"
     },
     "output_type": "display_data"
    },
    {
     "data": {
      "image/png": "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\n",
      "text/plain": [
       "<Figure size 432x288 with 1 Axes>"
      ]
     },
     "metadata": {
      "needs_background": "light"
     },
     "output_type": "display_data"
    }
   ],
   "source": [
    "# 평가하기\n",
    "results_rnn = model_rnn.evaluate(X_test, y_test, verbose=2)\n",
    "print(results_rnn)\n",
    "\n",
    "history_dict_rnn = history_rnn.history\n",
    "print(history_dict_rnn.keys()) # epoch에 따른 그래프를 그려볼 수 있는 항목들\n",
    "\n",
    "# train과 val의 Loss\n",
    "acc_rnn = history_dict_rnn['accuracy']\n",
    "val_acc_rnn = history_dict_rnn['val_accuracy']\n",
    "loss_rnn = history_dict_rnn['loss']\n",
    "val_loss_rnn = history_dict_rnn['val_loss']\n",
    "\n",
    "epochs_rnn = range(1, len(acc_rnn) + 1)\n",
    "\n",
    "# \"bo\"는 \"파란색 점\"\n",
    "plt.plot(epochs_rnn, loss_rnn, 'bo', label='Training loss')\n",
    "# b는 \"파란 실선\"\n",
    "plt.plot(epochs_rnn, val_loss_rnn, 'b', label='Validation loss')\n",
    "plt.title('RNN\\'s Training & validation loss')\n",
    "plt.xlabel('Epochs')\n",
    "plt.ylabel('Loss')\n",
    "plt.legend()\n",
    "\n",
    "plt.show()\n",
    "\n",
    "# train과 val의 accuracy\n",
    "plt.clf()  \n",
    "\n",
    "plt.plot(epochs_rnn, acc_rnn, 'bo', label='Training acc')\n",
    "plt.plot(epochs_rnn, val_acc_rnn, 'b', label='Validation acc')\n",
    "plt.title('RNN\\'s Training and validation accuracy')\n",
    "plt.xlabel('Epochs')\n",
    "plt.ylabel('Accuracy')\n",
    "plt.legend()\n",
    "\n",
    "plt.show()"
   ]
  },
  {
   "cell_type": "markdown",
   "id": "a887f7b7",
   "metadata": {},
   "source": [
    "## 5. KoNLPy 형태소 분석기를 사용한 모델과 성능 비교하기"
   ]
  },
  {
   "cell_type": "code",
   "execution_count": 50,
   "id": "5f970d58",
   "metadata": {},
   "outputs": [],
   "source": [
    "tokenizer = Mecab()\n",
    "stopwords = ['의','가','이','은','들','는','좀','잘','걍','과','도','를','으로','자','에','와','한','하다'] \n",
    "num_words = 10000\n",
    "\n",
    "def load_data(train_data, test_data, num_words=10000):\n",
    "    train_data.drop_duplicates(subset=['document'], inplace=True)\n",
    "    train_data = train_data.dropna(how = 'any') \n",
    "    test_data.drop_duplicates(subset=['document'], inplace=True)\n",
    "    test_data = test_data.dropna(how = 'any') \n",
    "\n",
    "    X_train = []\n",
    "    for sentence in train_data['document']:\n",
    "        temp_X = tokenizer.morphs(sentence) # 토큰화\n",
    "        temp_X = [word for word in temp_X if not word in stopwords] # 불용어 제거\n",
    "        X_train.append(temp_X)\n",
    "\n",
    "    X_test = []\n",
    "    for sentence in test_data['document']:\n",
    "        temp_X = tokenizer.morphs(sentence) # 토큰화\n",
    "        temp_X = [word for word in temp_X if not word in stopwords] # 불용어 제거\n",
    "        X_test.append(temp_X)\n",
    "\n",
    "    words = np.concatenate(X_train).tolist()\n",
    "    counter = Counter(words)\n",
    "    counter = counter.most_common(10000-4)\n",
    "    vocab = ['<PAD>', '<BOS>', '<UNK>', '<UNUSED>'] + [key for key, _ in counter]\n",
    "    word_to_index = {word:index for index, word in enumerate(vocab)}\n",
    "\n",
    "    def wordlist_to_indexlist(wordlist):\n",
    "        return [word_to_index[word] if word in word_to_index else word_to_index['<UNK>'] for word in wordlist]\n",
    "\n",
    "    X_train = list(map(wordlist_to_indexlist, X_train))\n",
    "    X_test = list(map(wordlist_to_indexlist, X_test))\n",
    "\n",
    "    return X_train, np.array(list(train_data['label'])), X_test, np.array(list(test_data['label'])), word_to_index\n",
    "\n",
    "X_train, y_train, X_test, y_test, word_to_index = load_data(train_data, test_data) "
   ]
  },
  {
   "cell_type": "code",
   "execution_count": 51,
   "id": "e26b6ea2",
   "metadata": {},
   "outputs": [],
   "source": [
    "index_to_word = {index:word for word, index in word_to_index.items()}"
   ]
  },
  {
   "cell_type": "code",
   "execution_count": 52,
   "id": "19d376eb",
   "metadata": {},
   "outputs": [],
   "source": [
    "# 문장 1개 + 딕셔너리 = 단어 인덱스 리스트 벡터로 변환\n",
    "def get_encoded_sentence(sentence, word_to_index):\n",
    "    return [word_to_index['<BOS>']]+[word_to_index[word] if word in word_to_index else word_to_index['<UNK>'] for word in sentence.split()]\n",
    "\n",
    "# 여러 개의 문장 리스트를 한꺼번에 단어 인덱스 리스트 벡터로 encode\n",
    "def get_encoded_sentences(sentences, word_to_index):\n",
    "    return [get_encoded_sentence(sentence, word_to_index) for sentence in sentences]\n",
    "\n",
    "# 숫자 벡터로 encode된 문장을 원래대로 decode\n",
    "def get_decoded_sentence(encoded_sentence, index_to_word):\n",
    "    return ' '.join(index_to_word[index] if index in index_to_word else '<UNK>' for index in encoded_sentence[1:])  #[1:]를 통해 <BOS>를 제외\n",
    "\n",
    "# 여러개의 숫자 벡터로 encode된 문장을 한꺼번에 원래대로 decode\n",
    "def get_decoded_sentences(encoded_sentences, index_to_word):\n",
    "    return [get_decoded_sentence(encoded_sentence, index_to_word) for encoded_sentence in encoded_sentences]"
   ]
  },
  {
   "cell_type": "code",
   "execution_count": 53,
   "id": "96bfda91",
   "metadata": {},
   "outputs": [
    {
     "name": "stdout",
     "output_type": "stream",
     "text": [
      "훈련 샘플 개수: 146182, 테스트 개수: 49157\n"
     ]
    }
   ],
   "source": [
    "print(\"훈련 샘플 개수: {}, 테스트 개수: {}\".format(len(X_train), len(X_test)))"
   ]
  },
  {
   "cell_type": "code",
   "execution_count": 54,
   "id": "995f3598",
   "metadata": {},
   "outputs": [
    {
     "name": "stdout",
     "output_type": "stream",
     "text": [
      "[32, 74, 919, 4, 4, 39, 228, 20, 33, 748]\n",
      "라벨:  0\n",
      "1번째 리뷰 문장 길이:  10\n",
      "2번째 리뷰 문장 길이:  17\n"
     ]
    }
   ],
   "source": [
    "# 데이터셋 내 문장 길이 분포 파악\n",
    "print(X_train[0])  # 1번째 리뷰데이터\n",
    "print('라벨: ', y_train[0])  # 1번째 리뷰데이터의 라벨\n",
    "print('1번째 리뷰 문장 길이: ', len(X_train[0]))\n",
    "print('2번째 리뷰 문장 길이: ', len(X_train[1]))"
   ]
  },
  {
   "cell_type": "code",
   "execution_count": 55,
   "id": "09cd0255",
   "metadata": {},
   "outputs": [
    {
     "name": "stdout",
     "output_type": "stream",
     "text": [
      "더 빙 . . 진짜 짜증 나 네요 목소리\n",
      "라벨:  0\n"
     ]
    }
   ],
   "source": [
    "print(get_decoded_sentence(X_train[0], index_to_word))\n",
    "print('라벨: ', y_train[0])  # 1번째 리뷰데이터의 라벨"
   ]
  },
  {
   "cell_type": "code",
   "execution_count": 56,
   "id": "4d91a741",
   "metadata": {},
   "outputs": [
    {
     "name": "stdout",
     "output_type": "stream",
     "text": [
      "문장길이 평균 :  15.96940191154864\n",
      "문장길이 최대 :  116\n",
      "문장길이 표준편차 :  12.843571191092\n",
      "pad_sequences maxlen :  41\n",
      "전체 문장의 0.9342988343341575%가 maxlen 설정값 이내에 포함됩니다. \n"
     ]
    }
   ],
   "source": [
    "total_data_text = list(X_train) + list(X_test)\n",
    "# 텍스트데이터 문장길이의 리스트를 생성\n",
    "num_tokens = [len(tokens) for tokens in total_data_text]\n",
    "num_tokens = np.array(num_tokens)\n",
    "\n",
    "print('문장길이 평균 : ', np.mean(num_tokens))\n",
    "print('문장길이 최대 : ', np.max(num_tokens))\n",
    "print('문장길이 표준편차 : ', np.std(num_tokens))\n",
    "\n",
    "# 최대 길이를 (평균 + 2*표준편차)로 설정  \n",
    "max_tokens = np.mean(num_tokens) + 2 * np.std(num_tokens)\n",
    "maxlen = int(max_tokens)\n",
    "print('pad_sequences maxlen : ', maxlen)\n",
    "print('전체 문장의 {}%가 maxlen 설정값 이내에 포함됩니다. '.format(np.sum(num_tokens < max_tokens) / len(num_tokens)))"
   ]
  },
  {
   "cell_type": "code",
   "execution_count": 57,
   "id": "2fb88200",
   "metadata": {},
   "outputs": [
    {
     "name": "stdout",
     "output_type": "stream",
     "text": [
      "(146182, 41)\n"
     ]
    }
   ],
   "source": [
    "# 패딩 작업\n",
    "X_train = keras.preprocessing.sequence.pad_sequences(X_train,\n",
    "                                                        value=word_to_index[\"<PAD>\"],\n",
    "                                                        padding='pre', # 혹은 'pre'\n",
    "                                                        maxlen=maxlen)\n",
    "\n",
    "X_test = keras.preprocessing.sequence.pad_sequences(X_test,\n",
    "                                                       value=word_to_index[\"<PAD>\"],\n",
    "                                                       padding='pre', # 혹은 'pre'\n",
    "                                                       maxlen=maxlen)\n",
    "\n",
    "print(X_train.shape)"
   ]
  },
  {
   "cell_type": "code",
   "execution_count": 58,
   "id": "5fa185b0",
   "metadata": {},
   "outputs": [
    {
     "name": "stdout",
     "output_type": "stream",
     "text": [
      "(96182, 41)\n",
      "(96182,)\n"
     ]
    }
   ],
   "source": [
    "#  val set 구성\n",
    "X_val = X_train[:50000]   \n",
    "y_val = y_train[:50000]\n",
    "\n",
    "# val set을 제외한 나머지\n",
    "partial_X_train = X_train[50000:]  \n",
    "partial_y_train = y_train[50000:]\n",
    "\n",
    "print(partial_X_train.shape)\n",
    "print(partial_y_train.shape)"
   ]
  },
  {
   "cell_type": "code",
   "execution_count": 59,
   "id": "eb772276",
   "metadata": {},
   "outputs": [
    {
     "name": "stdout",
     "output_type": "stream",
     "text": [
      "Model: \"sequential_2\"\n",
      "_________________________________________________________________\n",
      "Layer (type)                 Output Shape              Param #   \n",
      "=================================================================\n",
      "embedding_2 (Embedding)      (None, None, 16)          160000    \n",
      "_________________________________________________________________\n",
      "lstm_2 (LSTM)                (None, 12)                1392      \n",
      "_________________________________________________________________\n",
      "dense_4 (Dense)              (None, 8)                 104       \n",
      "_________________________________________________________________\n",
      "dense_5 (Dense)              (None, 1)                 9         \n",
      "=================================================================\n",
      "Total params: 161,505\n",
      "Trainable params: 161,505\n",
      "Non-trainable params: 0\n",
      "_________________________________________________________________\n"
     ]
    }
   ],
   "source": [
    "vocab_size = 10000    \n",
    "word_vector_dim = 16\n",
    "\n",
    "model_rnn = keras.Sequential()\n",
    "model_rnn.add(keras.layers.Embedding(vocab_size, word_vector_dim, input_shape=(None,)))\n",
    "model_rnn.add(keras.layers.LSTM(12))   \n",
    "model_rnn.add(keras.layers.Dense(8, activation='relu'))\n",
    "model_rnn.add(keras.layers.Dense(1, activation='sigmoid'))  \n",
    "\n",
    "model_rnn.summary()"
   ]
  },
  {
   "cell_type": "code",
   "execution_count": 60,
   "id": "243d32ef",
   "metadata": {},
   "outputs": [
    {
     "name": "stdout",
     "output_type": "stream",
     "text": [
      "Epoch 1/30\n",
      "188/188 [==============================] - 3s 8ms/step - loss: 0.5742 - accuracy: 0.7242 - val_loss: 0.4415 - val_accuracy: 0.8326\n",
      "Epoch 2/30\n",
      "188/188 [==============================] - 1s 6ms/step - loss: 0.3732 - accuracy: 0.8496 - val_loss: 0.3581 - val_accuracy: 0.8455\n",
      "Epoch 3/30\n",
      "188/188 [==============================] - 1s 6ms/step - loss: 0.3258 - accuracy: 0.8660 - val_loss: 0.3534 - val_accuracy: 0.8492\n",
      "Epoch 4/30\n",
      "188/188 [==============================] - 1s 7ms/step - loss: 0.3095 - accuracy: 0.8741 - val_loss: 0.3553 - val_accuracy: 0.8474\n",
      "Epoch 5/30\n",
      "188/188 [==============================] - 1s 6ms/step - loss: 0.2996 - accuracy: 0.8791 - val_loss: 0.3576 - val_accuracy: 0.8454\n",
      "Epoch 6/30\n",
      "188/188 [==============================] - 1s 6ms/step - loss: 0.2912 - accuracy: 0.8833 - val_loss: 0.3573 - val_accuracy: 0.8476\n",
      "Epoch 7/30\n",
      "188/188 [==============================] - 1s 6ms/step - loss: 0.2825 - accuracy: 0.8882 - val_loss: 0.3574 - val_accuracy: 0.8464\n",
      "Epoch 8/30\n",
      "188/188 [==============================] - 1s 6ms/step - loss: 0.2731 - accuracy: 0.8926 - val_loss: 0.3620 - val_accuracy: 0.8465\n",
      "Epoch 9/30\n",
      "188/188 [==============================] - 1s 6ms/step - loss: 0.2639 - accuracy: 0.8970 - val_loss: 0.3631 - val_accuracy: 0.8472\n",
      "Epoch 10/30\n",
      "188/188 [==============================] - 1s 6ms/step - loss: 0.2533 - accuracy: 0.9016 - val_loss: 0.3764 - val_accuracy: 0.8471\n",
      "Epoch 11/30\n",
      "188/188 [==============================] - 1s 6ms/step - loss: 0.2417 - accuracy: 0.9064 - val_loss: 0.3764 - val_accuracy: 0.8478\n",
      "Epoch 12/30\n",
      "188/188 [==============================] - 1s 6ms/step - loss: 0.2304 - accuracy: 0.9114 - val_loss: 0.3788 - val_accuracy: 0.8482\n",
      "Epoch 13/30\n",
      "188/188 [==============================] - 1s 6ms/step - loss: 0.2181 - accuracy: 0.9165 - val_loss: 0.4010 - val_accuracy: 0.8461\n",
      "Epoch 14/30\n",
      "188/188 [==============================] - 1s 6ms/step - loss: 0.2089 - accuracy: 0.9202 - val_loss: 0.4263 - val_accuracy: 0.8457\n",
      "Epoch 15/30\n",
      "188/188 [==============================] - 1s 6ms/step - loss: 0.1985 - accuracy: 0.9244 - val_loss: 0.4231 - val_accuracy: 0.8447\n",
      "Epoch 16/30\n",
      "188/188 [==============================] - 1s 6ms/step - loss: 0.1871 - accuracy: 0.9297 - val_loss: 0.4367 - val_accuracy: 0.8444\n",
      "Epoch 17/30\n",
      "188/188 [==============================] - 1s 6ms/step - loss: 0.1778 - accuracy: 0.9339 - val_loss: 0.4582 - val_accuracy: 0.8428\n",
      "Epoch 18/30\n",
      "188/188 [==============================] - 1s 6ms/step - loss: 0.1697 - accuracy: 0.9371 - val_loss: 0.4761 - val_accuracy: 0.8410\n",
      "Epoch 19/30\n",
      "188/188 [==============================] - 1s 6ms/step - loss: 0.1614 - accuracy: 0.9400 - val_loss: 0.4698 - val_accuracy: 0.8396\n",
      "Epoch 20/30\n",
      "188/188 [==============================] - 1s 6ms/step - loss: 0.1546 - accuracy: 0.9431 - val_loss: 0.4962 - val_accuracy: 0.8382\n",
      "Epoch 21/30\n",
      "188/188 [==============================] - 1s 6ms/step - loss: 0.1455 - accuracy: 0.9462 - val_loss: 0.5111 - val_accuracy: 0.8360\n",
      "Epoch 22/30\n",
      "188/188 [==============================] - 1s 6ms/step - loss: 0.1428 - accuracy: 0.9480 - val_loss: 0.5468 - val_accuracy: 0.8364\n",
      "Epoch 23/30\n",
      "188/188 [==============================] - 1s 6ms/step - loss: 0.1350 - accuracy: 0.9510 - val_loss: 0.5565 - val_accuracy: 0.8367\n",
      "Epoch 24/30\n",
      "188/188 [==============================] - 1s 6ms/step - loss: 0.1295 - accuracy: 0.9533 - val_loss: 0.5606 - val_accuracy: 0.8343\n",
      "Epoch 25/30\n",
      "188/188 [==============================] - 1s 6ms/step - loss: 0.1248 - accuracy: 0.9558 - val_loss: 0.5698 - val_accuracy: 0.8336\n",
      "Epoch 26/30\n",
      "188/188 [==============================] - 1s 6ms/step - loss: 0.1190 - accuracy: 0.9576 - val_loss: 0.6022 - val_accuracy: 0.8307\n",
      "Epoch 27/30\n",
      "188/188 [==============================] - 1s 6ms/step - loss: 0.1145 - accuracy: 0.9594 - val_loss: 0.6415 - val_accuracy: 0.8330\n",
      "Epoch 28/30\n",
      "188/188 [==============================] - 1s 6ms/step - loss: 0.1091 - accuracy: 0.9617 - val_loss: 0.6716 - val_accuracy: 0.8320\n",
      "Epoch 29/30\n",
      "188/188 [==============================] - 1s 6ms/step - loss: 0.1090 - accuracy: 0.9622 - val_loss: 0.6946 - val_accuracy: 0.8296\n",
      "Epoch 30/30\n",
      "188/188 [==============================] - 1s 6ms/step - loss: 0.1026 - accuracy: 0.9641 - val_loss: 0.6832 - val_accuracy: 0.8284\n"
     ]
    }
   ],
   "source": [
    "model_rnn.compile(optimizer='adam',\n",
    "              loss='binary_crossentropy',\n",
    "              metrics=['accuracy'])\n",
    "              \n",
    "epochs = 30\n",
    "\n",
    "history_rnn = model_rnn.fit(partial_X_train,\n",
    "                    partial_y_train,\n",
    "                    epochs=epochs,\n",
    "                    batch_size=512,\n",
    "                    validation_data=(X_val, y_val),\n",
    "                    verbose=1)"
   ]
  },
  {
   "cell_type": "code",
   "execution_count": 61,
   "id": "4fb8c49c",
   "metadata": {},
   "outputs": [
    {
     "name": "stdout",
     "output_type": "stream",
     "text": [
      "1537/1537 - 3s - loss: 0.6946 - accuracy: 0.8245\n",
      "[0.6945673823356628, 0.8244603872299194]\n",
      "dict_keys(['loss', 'accuracy', 'val_loss', 'val_accuracy'])\n"
     ]
    },
    {
     "data": {
      "image/png": "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\n",
      "text/plain": [
       "<Figure size 432x288 with 1 Axes>"
      ]
     },
     "metadata": {
      "needs_background": "light"
     },
     "output_type": "display_data"
    },
    {
     "data": {
      "image/png": "iVBORw0KGgoAAAANSUhEUgAAAYgAAAEWCAYAAAB8LwAVAAAAOXRFWHRTb2Z0d2FyZQBNYXRwbG90bGliIHZlcnNpb24zLjQuMywgaHR0cHM6Ly9tYXRwbG90bGliLm9yZy/MnkTPAAAACXBIWXMAAAsTAAALEwEAmpwYAAAtM0lEQVR4nO3de5xVdb3/8dcHEEZguKMSAwwoishlBhATUzGxg5ckSAukBOuoWGp66qj9NDWScyw96fGkFpaXFEW6SHqOZGpYZpYMCggqCogC3kYQRG5y+fz++K49s9msmdlz2ezLvJ+Px3rsdV/ftffM+qzvZX2XuTsiIiKpWmQ7ASIikpsUIEREJJYChIiIxFKAEBGRWAoQIiISSwFCRERiKUBIVpjZ8Wa2vKnXzSYzm2pmf8vAfq83swei8d5m9omZtaxr3QYea5mZjW7o9lJYFCBykJmtNrNt0YXgPTO718zaJy2/18zczEYmzTvMzDxp+hkz225mvZLmjTGz1SnHKa1Huv5flKZPon3vTppeVp9zdPdn3f2Ipl630Ln72+7e3t13N3Zf0d/RDSn7P8rdn2nsvqUwKEDkri+6e3ugDCgHvp+yfANwQ+pGKbYAP2iqBLn7f0QXp/bANOD5xLS7H5VYzwL9bUnOqCnHJbXTP3GOc/f3gCcIgSLZfcAQMzuxls1vAyaZ2aF1HcfMTjOzV8xss5mtM7Pv1SedUY5lhpk9B2wF+pnZeWb2arTPVWZ2YdL6o81sbdL0ajP7npktMbNNZvawmRXVd91o+RVm9q6ZvWNm/xrltg6rId11ptHMvmtmH0T7PC9peVcze9TMPjazF4Aav2czm2dmF6fMW2xmE6Lx/zazNdG+FprZ8TXspzQ6n1bRdF8z+0uU/ieBbinr/ybKhW4ys7+a2VHR/AuAycAVUQ7wsaTvdkw03sbMbo2+x3ei8TbpfDf1+Z6j5ePMbFF0/ivNbGw0v4uZ3RMd/yMzmxvN36c4L/l3jnJHd5rZ42a2BTjJzE43s5eiY6wxs+tTtv+cmf3dzDZGy6ea2dFm9r4lBRgzm2Bmi2s610KiAJHjzKwEOBVYkbJoK/AfwIxaNl8H3AX8MG6hu5e6++po8lfAhe5eDAwC/tyA5H4duAAoBt4CPgDOADoA5wG3mNmwWrb/CjAW6AsMAabWd93owvJvwBjgMGB0HWmuK42HAB2BnsA3gdvNrHO07HZgO9AD+EY01OQhYFJiwswGAn2A/4tmLSDcBHQBHgR+kxz0avEgsJAQGH4ETElZPg/oDxwEvAjMAnD3mdH4T6Ic4Bdj9n018NkoXUOBkcA1Sctr+25S1fg9Wygq/TXw70An4ARgdbTd/UBb4KjoHG6p+avYxzmE/49i4G+EHPW50TFOBy4ysy9FaehD+K7+B+genfMid18ArAe+kLTfr0fpLXzuriHHBsI/xyfAZsCBp4FOScvvJRQvtQHeJgSQw8LPWbXOM8C/Ev7YNxH+wcYAq2s45tvAhUCHNNM4FfhbyvGm17HNXOA70fhoYG3KOX8tafonwM8bsO7dwH8mLTss+g4PS/O8UtO4DWiVtPwDwkWzJbATGJC07D+Sv5OU/RYTLlB9oukZwN21pOMjYGg0fj3wQDReGp1PK6A3sAtol7Tdg4l1Y/bZKdq2Y/LfUczf3phofCVwWtKyf0n8/dT23TTge/4FcEvMOj2APUDnuv7+onlVv3N0br+uIw23Jo5LKMJ9pIb1rgRmReNdCDdnPdI5z3wflIPIXV/ycDc/GhhAStEBgLvvINw1/qimnbh7JfAzYHodx/sycBrwVlRkcWwD0rwmecLMTjWzf5jZBjPbGO1/n/NI8l7S+FagfU0r1rLuZ1LSsVeaUqWRxvXuvivmWN0JF+nk/b9V03HcfTMhtzAxmjWJ6G4+Ssf3oiKYTVE6OlL7dwXhXD9y9y1xaTCzlmZ2Y1Rk8zHVd+V17Td5/8nn9FY0L6Gm72YfdXzPvQjBKFUvYIO7f5RmelOl/j0eY2bzzazSzDYR6tHqSgPAA8AXzawdIef6rLu/28A05RUFiBzn7n8h3A3dXMMq9xDuDCfUspubgJOA4bUcZ4G7jyNk4+cCc+qfWpJbUbUBfkdI98Hu3gl4HLAG7Lc+3gVKkqZ71bRiI9NYSbh7T95/7zq2eYhQJ3QsUATMj9JxPHAF4eLTOUrHpjTS8S7QObpwxaXhHGAcIefYkZD7IGm/dXXl/A6hGCx53+/Usc0+0vie1xBff7MG6GJmnWKWbSEUPSWOcUjMOqnn9yDwKNDL3TsCP08jDbj7OuB5wv/Y1wnFXs2CAkR+uBU4xcyGpi6I7uCuI2SDY7n7RuC/CBehfZhZazObbGYd3X0n8DEha98YrQlFYJXALjM7lb3LcTNlDnCemR1pZm2pvRVXg9PooZnp74HrzaxtVKeQWv6f6nHCBXc68LC7J77jYkKwqQRamdm1hLL6utLwFlAB/DD6DT8HJNclFAM7CGXobQlFYMneB/rVcoiHgGvMrLuZdQOuJdxN11dd3/OvCL/ZyWbWwsx6mtmA6C59HnCHmXU2swPM7IRom8XAUWZWFtXVXJ9GOooJOZLtUb3HOUnLZgFjzOwrZtbKQgOEsqTlvyb8/wwm/O7NggJEHoiKiX5N+AeN8xDhbrI2/w3U1nb+68DqqChiGqGFS4NFRSqXEi7YHxH+GR9tzD7TPO48Quut+YSK/X9Ei3ZkII0XE4pU3iPk8u6pI207CBeXMYS72YQngD8CrxOKcbZTR9FYknOAYwjNnq9j78rTX0f7Wwe8QvV3kfArYGDUamduzL5vIASgJcDLhEruuppW76Ou79ndXyCquCbknP5Cdc7l64S6ntcIdRyXRdu8Tgi0TwFvECqh6/ItYLqZbSb8L1Xlkt39bUKx13cJ3+UiQsV8wiNRmh5x961pnnres6jiRaQgmdmRwFKgTUp5uUi9mNlKQku/p7Kdlv1FOQgpOGY23kIb/s7Aj4HHFBykMczsy4Q6jYY0/85bChBSiC4kFEesJBSrXZTd5Eg+M7NngDuBbyfVGzULKmISEZFYykGIiEisVtlOQFPp1q2bl5aWZjsZIiJ5ZeHChR+6e/e4ZQUTIEpLS6moqMh2MkRE8oqZ1dgDgIqYREQklgKEiIjEUoAQEZFYBVMHEWfnzp2sXbuW7du3ZzspUoOioiJKSko44IADsp0UEUlR0AFi7dq1FBcXU1pailmmOxGV+nJ31q9fz9q1a+nbt2+2kyMiKQq6iGn79u107dpVwSFHmRldu3ZVDk+kgWbNgtJSaNEifM6aVdcW9VPQOQhAwSHH6fcRaZhZs+CCC2Br1LfsW2+FaYDJjeqLuVpB5yBERHJFfe7201n36qurg0PC1q1hflNRgMig9evXU1ZWRllZGYcccgg9e/asmv70009r3baiooJLL720zmOMGjWqqZIrIhmSuNt/6y1wr77bj7vwp7vu22/HH6um+Q2S7ZdiN9UwfPhwT/XKK6/sM682Dzzg3qePu1n4fOCBem1eq+uuu85vuummvebt3Lmz6Q6Qx+r7O4nkknSuG336uIfL/d5Dnz4NX7c++6wNUOE1XFeVg4jUJ8I3xtSpU5k2bRrHHHMMV1xxBS+88ALHHnss5eXljBo1iuXLlwPwzDPPcMYZZwBw/fXX841vfIPRo0fTr18/brvttqr9tW/fvmr90aNHc9ZZZzFgwAAmT56MRz31Pv744wwYMIDhw4dz6aWXVu032erVqzn++OMZNmwYw4YN4+9//3vVsh//+McMHjyYoUOHctVVVwGwYsUKxowZw9ChQxk2bBgrV9b0vneRwpWJu/10150xA9q23Xte27ZhfpOpKXLk29DYHERTReOaJHIQU6ZM8dNPP9137drl7u6bNm2qykk8+eSTPmHCBHd3nz9/vp9++ulV2x577LG+fft2r6ys9C5duvinn37q7u7t2rWrWr9Dhw6+Zs0a3717t3/2s5/1Z5991rdt2+YlJSW+atUqd3efOHFi1X6Tbdmyxbdt2+bu7q+//ronvs/HH3/cjz32WN+yZYu7u69fv97d3UeOHOm///3v3d1927ZtVcsbQjkIyTXpliZk4m6/Pus2RakHykHUbb+U50XOPvtsWrZsCcCmTZs4++yzGTRoEJdffjnLli2L3eb000+nTZs2dOvWjYMOOoj3339/n3VGjhxJSUkJLVq0oKysjNWrV/Paa6/Rr1+/qucMJk2aFLv/nTt3cv755zN48GDOPvtsXnnlFQCeeuopzjvvPNpGtypdunRh8+bNrFu3jvHjxwPhYbe2qbcyIjkoncrf+pQmZOJuvz7rTp4Mq1fDnj3hs6laLyUoQER6967f/MZo165d1fgPfvADTjrpJJYuXcpjjz1W4zMBbdq0qRpv2bIlu3bt+wbNdNapyS233MLBBx/M4sWLqaioqLMSXSTfpHvhr0/roHSvG5Mnw8yZ0KcPmIXPmTPjL+j1WTfTFCAi+6U8L8amTZvo2bMnAPfee2+T7/+II45g1apVrF69GoCHH364xnT06NGDFi1acP/997N7924ATjnlFO655x62Rv8xGzZsoLi4mJKSEubOnQvAjh07qpaL7G/pNh9N98Jfn9KETN3tZzpnkC4FiEi2ovYVV1zB97//fcrLy+t1x5+uAw88kDvuuIOxY8cyfPhwiouL6dix4z7rfetb3+K+++5j6NChvPbaa1W5nLFjx3LmmWcyYsQIysrKuPnmmwG4//77ue222xgyZAijRo3ivffea/K0i9QlE8VB9SlNyKW7/YyoqXIi34amaOZaqDZv3uzu7nv27PGLLrrIf/rTn2Y5RXvT7yRxstV89IEH3Nu23Xudtm2bttl7LiFbldRmNtbMlpvZCjO7KmZ5HzN72syWmNkzZlaStGy3mS2Khkczmc5Cd9ddd1FWVsZRRx3Fpk2buPDCC7OdJJFaZaL5aLrFQQWfK6iPmiJHYwegJbAS6Ae0BhYDA1PW+Q0wJRr/PHB/0rJP6nM85SDyl34nSZWph8Uy+TBsviJLOYiRwAp3X+XunwKzgXEp6wwE/hyNz49ZLiIFJN0K5Uw9LJYrlb/5IpMBoiewJml6bTQv2WJgQjQ+Hig2s67RdJGZVZjZP8zsS3EHMLMLonUqKisrmzDpIlIfTf18QSaaj0r9ZbsV0/eAE83sJeBEYB2wO1rWx91HAOcAt5rZoakbu/tMdx/h7iO6d+++3xItItUy8XxBLj0s1pxlMkCsA3olTZdE86q4+zvuPsHdy4Gro3kbo8910ecq4BmgPINpFZEGysTzBcoZ5IZMBogFQH8z62tmrYGJwF6tkcysm5kl0vB94O5ofmcza5NYBzgOeCWDac2Ik046iSeeeGKvebfeeisXXXRRjduMHj2aiooKAE477TQ2bty4zzrXX3991fMINZk7d25VdxkA1157LU899VQ9Ui/NXVPXF9S3twLlDLIvYwHC3XcBFwNPAK8Cc9x9mZlNN7Mzo9VGA8vN7HXgYCCRgTwSqDCzxYTK6xvdPe8CxKRJk5g9e/Ze82bPnl1jf0ipHn/8cTp16tSgY6cGiOnTpzNmzJgG7Uuan0zUF2SrtwJphJqaN+XbkIvNXNevX+/du3f3HTt2uLv7m2++6b169fI9e/b4tGnTfPjw4T5w4EC/9tprq7Y58cQTfcGCBe7u3qdPH6+srHR39xtuuMH79+/vxx13nE+cOLHq3RIzZ870ESNG+JAhQ3zChAm+ZcsWf+6557xz585eWlrqQ4cO9RUrVviUKVP8N7/5jbu7P/XUU15WVuaDBg3y8847z7dv3151vGuvvdbLy8t90KBB/uqrr+5zTm+++aZ/7nOf8/Lyci8vL/fnnnuuatmNN97ogwYN8iFDhviVV17p7u5vvPGGn3zyyT5kyBAvLy/3FStW7LPPbP9OzU1TP4BWnwfL1Mw091BLM9eCfyd1wmWXwaJFTbvPsjK49daal3fp0oWRI0cyb948xo0bx+zZs/nKV76CmTFjxgy6dOnC7t27Ofnkk1myZAlDhgyJ3c/ChQuZPXs2ixYtYteuXQwbNozhw4cDMGHCBM4//3wArrnmGn71q19xySWXcOaZZ3LGGWdw1lln7bWv7du3M3XqVJ5++mkOP/xwzj33XO68804uu+wyALp168aLL77IHXfcwc0338wvf/nLvbY/6KCDePLJJykqKuKNN95g0qRJVFRUMG/ePP7whz/wz3/+k7Zt27JhwwYAJk+ezFVXXcX48ePZvn07e/bsqf8XLU0m3fcY17e+AEKdw9tvh5zDjBk1d0SnoqL8ke1WTAUvuZgpuXhpzpw5DBs2jPLycpYtW7ZXcVCqZ599lvHjx9O2bVs6dOjAmWeeWbVs6dKlHH/88QwePJhZs2bV2F14wvLly+nbty+HH344AFOmTOGvf/1r1fIJE0Kr4+HDh1d18JdM3YLnpqbusE71BQI0nxxEbXf6mTRu3Dguv/xyXnzxRbZu3crw4cN58803ufnmm1mwYAGdO3dm6tSpNXbzXZepU6cyd+5chg4dyr333sszzzzTqPQmugyvqbvw5G7B9+zZQ1FRUaOOJ42Xbq4A6vcAWvI+QfUFzZFyEBnWvn17TjrpJL7xjW9U5R4+/vhj2rVrR8eOHXn//feZN29erfs44YQTmDt3Ltu2bWPz5s089thjVcs2b95Mjx492LlzJ7OSbhuLi4vZvHnzPvs64ogjWL16NStWrABCr6wnnnhi2uejbsFzT7bfXyCFSwFiP5g0aRKLFy+uChBDhw6lvLycAQMGcM4553DcccfVuv2wYcP46le/ytChQzn11FM5+uijq5b96Ec/4phjjuG4445jwIABVfMnTpzITTfdRHl5+V7viy4qKuKee+7h7LPPZvDgwbRo0YJp06alfS7qFnz/SqfoKBfeXyAFqqba63wbcrEVk6RHv1O8dFsHqcM6aQz0TmqR/JNu0ZE6rJNMUYAQyVHpFh2pvkAypeADRMhBSa5qjr9Puk1S6/vqS+UKpKkVdIAoKipi/fr1zfIilA/cnfXr1zerprL16cJCXVNItlmhXDxHjBjhiU7uEnbu3MnatWsb/IyBZF5RURElJSUccMAB2U7KflFaGoJCqj59wp1/qlmz0ntCWaShzGyhh1cr7LuskAOESK5p0SLkHFKZheIhkf2ttgBR0EVMIvtTOnUL9e3CQiSbFCBEmkC6dQuqV5B8ogAh0gTSfWZBTVIlnyhAiNSiqd+qBmqSKvlDAUKkBpl4q5pIPlGAEKlBfXpJVd2CFCIFCGmWmrqXVNUtSCFqNi8MEklI9wU7vXvHP9RW21vVFBCkkCgHIc1OpnpJFSk0ChDS7KiXVJH0qIhJmp36FB2p2EiaM+UgpGCk+8yCio5E0qMAIQWhPs8sqOhIJD3qzVUKQn270RaRQL25SsGrzzMLIpIeBQjJeepGWyQ7FCAkp6kbbZHsUYCQnKZutEWyR5XUktP0ik6RzFIlteScdJ9ZUN2CSPZkNECY2VgzW25mK8zsqpjlfczsaTNbYmbPmFlJ0rIpZvZGNEzJZDpl/6rPMwuqWxDJnowFCDNrCdwOnAoMBCaZ2cCU1W4Gfu3uQ4DpwH9G23YBrgOOAUYC15lZ50ylVfav+rxnQXULItmTyRzESGCFu69y90+B2cC4lHUGAn+OxucnLf8X4El33+DuHwFPAmMzmFZpIk39ngXQKzpFsiWTAaInsCZpem00L9liYEI0Ph4oNrOuaW6LmV1gZhVmVlFZWdlkCZeGSbfoSPUKIvkh25XU3wNONLOXgBOBdcDudDd295nuPsLdR3Tv3j1TaZQ06T0LIoUlkwFiHdArabokmlfF3d9x9wnuXg5cHc3bmM62knv0ngWRwpLJALEA6G9mfc2sNTAReDR5BTPrZmaJNHwfuDsafwL4gpl1jiqnvxDNkyzIRJNU1SuI5L6MBQh33wVcTLiwvwrMcfdlZjbdzM6MVhsNLDez14GDgRnRthuAHxGCzAJgejRP9jM1SRVpvvQktdSqvt1oz5oV6hzefjvkHGbMUO5AJJfV9iS1AoTUSl1diBQ2dbUhsdSNtojURgGimVI32iJSFwWIZkrdaItIXVQH0UypbkFEQHUQzYq60RaRpqIAUUD0zIKINCUFiAKibrRFpCkpQOQJdaMtIvubAkQeUDfaIpINChB5QN1oi0g2KEDkAXWjLSLZoACRRepGW0RymQJElqhJqojkOgWILFGTVBHJdepqI0vU1YWI5AJ1tZGD1CRVRHKdAkSWqF5BRHKdAkSWqF5BRHKdAkQGpNt8VU1SRSSX1RkgzOyLZqZAkqb6NF8VEcll6Vz4vwq8YWY/MbMBmU5QvqtP81URkVxWZ4Bw968B5cBK4F4ze97MLjCz4oynLg/Vt0dVEZFclVbRkbt/DPwWmA30AMYDL5rZJRlMW15S81URKRTp1EGcaWaPAM8ABwAj3f1UYCjw3cwmL/+o+aqIFIpWaazzZeAWd/9r8kx332pm38xMsvJXoiXS1VeHYqXevUNwUAslEck3dXa1YWZ9gXfdfXs0fSBwsLuvznzy0pdvXW2IiOSCxna18RsguXeg3dE8EREpYOkEiFbu/mliIhpvnbkkiYhILkgnQFSa2ZmJCTMbB3yYuSSJiEguSKeSehowy8x+BhiwBjg3o6kSEZGsqzNAuPtK4LNm1j6a/iTjqRIRkaxLJweBmZ0OHAUUmRkA7j49je3GAv8NtAR+6e43pizvDdwHdIrWucrdHzezUuBVYHm06j/cfVo6aRURkaaRzoNyPyf0x3QJoYjpbKBPGtu1BG4HTgUGApPMbGDKatcAc9y9HJgI3JG0bKW7l0VD1oNDuj20iogUinQqqUe5+7nAR+7+Q+BY4PA0thsJrHD3VVHLp9nAuJR1HOgQjXcE3kkv2fuXemgVkeYonSKm7dHnVjP7DLCe0B9TXXoSKrQT1gLHpKxzPfCnqE+ndsCYpGV9zewl4GPgGnd/NvUAZnYBcAFA7wx2dlRbD63JT0jv3g0LFsC8efCXv0BxMRx2GBx6aPVnaSkccEDGktqsucOOHdCqVRhEpHHS+Td6zMw6ATcBLxLu+u9qouNPAu519/8ys2OB+81sEPAu0Nvd15vZcGCumR0VdRpYxd1nAjMhPEndRGnaR209tH7wATzxRAgKf/oTrF8fiqGGD4cNG+DPf947uLRsGbrfSA4a/fvDgAHQr1/Dg4c7vPMOLF0KL78MH30EPXpUD5/5DBxyCBQVNWz/dR17+3b4+OMwbN4c5pmF76K2z127qrera9i2LRwnbti2LQQHCN/hEUfAUUfBoEHVn/36he9fRNJTa4CIXhT0tLtvBH5nZv8LFLn7pjT2vQ7olTRdEs1L9k1gLIC7P29mRUA3d/8A2BHNX2hmKwnFWlnpS6N371CslOqAA8JF1x0OOghOPx1OPRW+8AXo0iWs4w7vvQcrV8KKFeEzMT5nTggiCa1ahYAxYED1cMQR4bNz5+r1Nm4MgSARDJKDQkKLFuFNdak6dw7BIhE4DjkkHHf37vhhz57q8R07ar5479rVJF/1Xtq2hQ4dwlBcHKaLi6F7dzjwwBDs4oZNm2DZMnjhBXj44er9FRXBkUdWB4yBA6FTp5r3U1QUvpuoXYZIs5NOX0wvRZXI9duxWSvgdeBkQmBYAJzj7suS1pkHPOzu95rZkcDThKKpbsAGd99tZv2AZ4HB7r4h9TgJmeyLKVEHkVrM1L8/nHtuCArl5eGiXF8ffQRvvAHLl8Nrr1UPb7wBO3dWr3fQQeEOeN06WJNUcNehQ7jYDRoEgweHYdCgEAg+/DDkKt59Nwxx4++/H4JAixbh7jp1SJ7fpk31Bbu2obi4OkC51/7ZqlXN+2iKYqJPPoFXXw1BdNmyMCxdCmvXprd9ixYhUBQXQ7dutQ/du0PXriF4tW5dPSjISC6rrS+mdALEzcDzwO+9rpX33fY04FZCE9a73X2GmU0HKtz90ahV011Ae0LR1RXu/icz+zIwHdhJ6AfqOnd/rLZjZbqzvq99rbpSuls3uOEGuPDCjB2OXbvCe6oTAWP58pDz6NFj70DQu7cuPg2xaVP4TjdvrrnYKnn4+ONQfPjhh1BZGT7Xrw85q3QkB4zE0LFjqJMqLYW+fcOQGO/YMYMnL5KksQFiM6ECeRehwtoAd/cOtW64n2UyQNx2G3znO3DWWfDQQ6oAlWDPnhBoPvxw72HHDvj007qH9evDTcCbb4ZAlaxTp70DxqGHVtdb9e6thg7SdGoLEOk8Sd2sXy16++0hOIwfDw8+qOAg1Vq0CEV5nTuH4saGcg91UYlgkfh8882Qe5w3L+RiElq2hD59qhs5JDd46NsX2rVr7JmJBHVe7szshLj5qS8QKkS/+AVcfDGceSbMnq27NskMs1B30bVraP2Wyj3UF6U2cli5MlTEb9y49/qdO0OvXjUPJSWhPkmkLuncD/970ngR4QG4hcDnM5KiHPHLX8K0aaFl0pw5ocxYJBvMQsuzz3wGToi5XduwoTporF4dGjEkhuef37ulXMJBB4VA0bNn9WdiSEx3yKlCZMmGdIqYvpg8bWa9CBXPBeuee0KrpbFj4be/1d2W5LYuXcJw9NHxy7dsCa22kgPHmjWhRdxbb8Fzz8UHkfbtQ6Do27e6pdygQaGpcOp716UwNaREfS1wZFMnJFfcfz9885swZgw88khmHiwT2Z/atQvP0xxxRM3rbNsWmj6vXRsCx7p11eMrVsD8+dUPIpqF+o7E8ySJ4fDDQzFsopJ+x459h/rO37Mn1O+UlYXnVpST37/SqYP4H0ITVAh9N5URnqguOA8+CFOnwkknwR/+oOAgzceBB1ZXeMfZtSsUYyUe0EwM//u/1U19zUJ9SVNKfuCzVasQJMrKqoehQ6sfSpWml04z1ylJk7uA1e7+XEZT1QCNbeb68MNwzjmhjPf//k9ZaJF07NgRnidZujR8QiiSTR1at46fX9Oy1q1DbmTPnpCDWbRo7+G996rT0KtXCBaHHRaeH6lrUJHx3hr7HEQ7YLu7746mWwJt3H1rrRvuZ40JEL/9LUycCKNGhSaFaiYoktvefx8WL947aLz9dqhvqcuBB4aeD0aNqh4OPrj+aUi0LluyJPR80K5deJo++en6jh0b1sPC/tTYAPEPYEziTXLRm+X+5O6jmjyljdDQAPHaa+Gp5GOOCcGhuFk/9SGS3xKdP27aFIbk8cTwwQeh1+WKilD3AaFoLREsjjsuFGUld+y4dWvopmXJkjC8/HL4XL++9vS0bBmaLycHjd69YciQUDw2cGD2i7Ib9aAcoXO+qteMuvsnZlYwBTADBsDMmfDlLys4iOS7Vq2qW3XVZccOWLgQ/v73MDzxRGikAqGJ72c/G64JL78ccgiJe+m2bcNN5fjx4UI/ZEhoALB9+75P1ScPlZWhX7B580KjAAgB5IgjQrBIBI0hQ0KT5lzoQiedHMRzwCXu/mI0PRz4mbsfux/Sl7ZM98UkIoXNHVatqg4Yzz0XLuRDhoSAkAgG/fo1rtho9+5Q4b94cRiWLAmfya8V6No1HKtXr+ru+pO77u/RIxSVNYXGFjEdTXgb3DuEfpgOAb7q7gubJnlNQwFCRPLZxo3VwWLJklDxv25dqJBP7tk5oWPH6mBx9NFw440NO25j+2JaYGYDgEQr6uXuHpNcERFpqE6dQivK1Kfl9+wJdR2pXfUnd9+f/AqAppTOcxDfBma5+9JourOZTXL3OzKTJBERSWjRIrSO6t49FDvt12Onsc750RvlAHD3j4DzM5YiERHJCekEiJZm1fXp0XMQeuBdRKTApdPM9Y/Aw2b2i2j6QmBe5pIkIiK5IJ0AcSVwATAtml5CaMkkIiIFrM4iJnffA/wTWE14F8TngVczmywREcm2GnMQZnY4MCkaPgQeBnD3k/ZP0kREJJtqK2J6DXgWOMPdVwCY2eX7JVUiIpJ1tRUxTQDeBeab2V1mdjLhSWoREWkGagwQ7j7X3ScCA4D5wGXAQWZ2p5l9YT+lT0REsiSdSuot7v5g9G7qEuAlQssmEREpYPXqk9DdP3L3me5+cqYSJCIiuSHH33UkIiLZogAhIiKxFCBERCSWAoSIiMRSgBARkVgKECIiEksBQkREYmU0QJjZWDNbbmYrzOyqmOW9zWy+mb1kZkvM7LSkZd+PtltuZv+SyXSKiMi+0nkfRINEb567HTgFWAssMLNH3f2VpNWuAea4+51mNhB4HCiNxicCRwGfAZ4ys8PdfXem0isiInvLZA5iJLDC3Ve5+6fAbGBcyjoOdIjGOwLvROPjgNnuvsPd3wRWRPsTEZH9JJMBoiewJml6bTQv2fXA18xsLSH3cEk9tsXMLjCzCjOrqKysbKp0i4gI2a+kngTc6+4lwGnA/WaWdpqifqFGuPuI7t27ZyyRIiLNUcbqIIB1QK+k6ZJoXrJvAmMB3P15MysCuqW5rYiIZFAmcxALgP5m1tfMWhMqnR9NWedt4GQAMzsSKAIqo/UmmlkbM+sL9AdeyGBaRUQkRcZyEO6+y8wuBp4AWgJ3u/syM5sOVLj7o8B3gbuiV5k6MNXdHVhmZnOAV4BdwLfVgklEZP+ycD3OfyNGjPCKiopsJ0NEJK+Y2UJ3HxG3LNuV1CIikqMUIEREJJYChIiIxFKAEBGRWAoQIiISSwFCRERiKUCIiEgsBQgREYmlACEiIrEUIEREJJYChIiIxFKAEBGRWAoQIiISSwFCRERiKUCIiEgsBQgREYmlACEiIrEUIEREJJYChIiIxFKAEBGRWAoQIiISSwFCRERiKUCIiEgsBQgREYmlACEiIrEUIEREJJYChIiIxFKAEBGRWAoQIiISSwFCRERiKUCIiEgsBQgREYmlACEiIrEyGiDMbKyZLTezFWZ2VczyW8xsUTS8bmYbk5btTlr2aCbTKSIi+2qVqR2bWUvgduAUYC2wwMwedfdXEuu4++VJ618ClCftYpu7l2UqfSIiUrtM5iBGAivcfZW7fwrMBsbVsv4k4KEMpkdEROohkwGiJ7AmaXptNG8fZtYH6Av8OWl2kZlVmNk/zOxLNWx3QbRORWVlZRMlW0REIHcqqScCv3X33Unz+rj7COAc4FYzOzR1I3ef6e4j3H1E9+7d91daRUSahUwGiHVAr6TpkmhenImkFC+5+7rocxXwDHvXT4iISIZlMkAsAPqbWV8za00IAvu0RjKzAUBn4PmkeZ3NrE003g04DngldVsREcmcjLVicvddZnYx8ATQErjb3ZeZ2XSgwt0TwWIiMNvdPWnzI4FfmNkeQhC7Mbn1k4iIZJ7tfV3OXyNGjPCKiopsJ0NEJK+Y2cKovncfuVJJLSIiOUYBQkREYilAiIhILAUIERGJpQAhIiKxFCBERCSWAoSIiMRSgBARkVgKECIiEksBQkREYilAiIhILAUIERGJ1ewDxKxZUFoKLVqEz1mzsp0iEZHckLHuvvPBrFlwwQWwdWuYfuutMA0weXL20iUikguadQ7i6qurg0PC1q1hvohIc9esA8Tbb9dvvohIc9KsA0Tv3vWbLyLSnDTrADFjBrRtu/e8tm3DfBGR5q5ZB4jJk2HmTOjTB8zC58yZqqAWEYFm3ooJQjBQQBAR2VezzkGIiEjNFCBERCSWAoSIiMRSgBARkVgKECIiEsvcPdtpaBJmVgm8lTK7G/BhFpKTSYV2ToV2PlB451Ro5wOFd06NOZ8+7t49bkHBBIg4Zlbh7iOynY6mVGjnVGjnA4V3ToV2PlB455Sp81ERk4iIxFKAEBGRWIUeIGZmOwEZUGjnVGjnA4V3ToV2PlB455SR8ynoOggREWm4Qs9BiIhIAylAiIhIrIINEGY21syWm9kKM7sq2+lpLDNbbWYvm9kiM6vIdnoawszuNrMPzGxp0rwuZvakmb0RfXbOZhrro4bzud7M1kW/0yIzOy2baawvM+tlZvPN7BUzW2Zm34nm5+XvVMv55O3vZGZFZvaCmS2OzumH0fy+ZvbP6Jr3sJm1bvSxCrEOwsxaAq8DpwBrgQXAJHd/JasJawQzWw2McPe8fbjHzE4APgF+7e6Donk/ATa4+41RIO/s7ldmM53pquF8rgc+cfebs5m2hjKzHkAPd3/RzIqBhcCXgKnk4e9Uy/l8hTz9nczMgHbu/omZHQD8DfgO8G/A7919tpn9HFjs7nc25liFmoMYCaxw91Xu/ikwGxiX5TQ1e+7+V2BDyuxxwH3R+H2Ef968UMP55DV3f9fdX4zGNwOvAj3J09+plvPJWx58Ek0eEA0OfB74bTS/SX6jQg0QPYE1SdNryfM/CsIfwJ/MbKGZXZDtxDShg9393Wj8PeDgbCamiVxsZkuiIqi8KIqJY2alQDnwTwrgd0o5H8jj38nMWprZIuAD4ElgJbDR3XdFqzTJNa9QA0Qh+py7DwNOBb4dFW8UFA/lnfle5nkncChQBrwL/FdWU9NAZtYe+B1wmbt/nLwsH3+nmPPJ69/J3Xe7exlQQigxGZCJ4xRqgFgH9EqaLonm5S13Xxd9fgA8QvijKATvR+XEifLiD7KcnkZx9/ejf949wF3k4e8UlWv/Dpjl7r+PZuft7xR3PoXwOwG4+0ZgPnAs0MnMEq+RbpJrXqEGiAVA/6hWvzUwEXg0y2lqMDNrF1WwYWbtgC8AS2vfKm88CkyJxqcAf8hiWhotcRGNjCfPfqeoAvRXwKvu/tOkRXn5O9V0Pvn8O5lZdzPrFI0fSGiM8yohUJwVrdYkv1FBtmICiJqt3Qq0BO529xnZTVHDmVk/Qq4BoBXwYD6ej5k9BIwmdE38PnAdMBeYA/QmdNf+FXfPi4rfGs5nNKHYwoHVwIVJZfc5z8w+BzwLvAzsiWb/P0K5fd79TrWczyTy9HcysyGESuiWhJv8Oe4+PbpOzAa6AC8BX3P3HY06VqEGCBERaZxCLWISEZFGUoAQEZFYChAiIhJLAUJERGIpQIiISCwFCJE6mNnupF4/FzVl78BmVprcG6xILmlV9yoizd62qFsDkWZFOQiRBore0fGT6D0dL5jZYdH8UjP7c9QR3NNm1juaf7CZPRL147/YzEZFu2ppZndFffv/KXo6FjO7NHqPwRIzm52l05RmTAFCpG4HphQxfTVp2SZ3Hwz8jPDkPsD/APe5+xBgFnBbNP824C/uPhQYBiyL5vcHbnf3o4CNwJej+VcB5dF+pmXm1ERqpiepRepgZp+4e/uY+auBz7v7qqhDuPfcvauZfUh4Sc3OaP677t7NzCqBkuTuD6IuqJ909/7R9JXAAe5+g5n9kfBCornA3KR3AIjsF8pBiDSO1zBeH8n95eymum7wdOB2Qm5jQVJPnSL7hQKESON8Nenz+Wj874QehAEmEzqLA3gauAiqXvjSsaadmlkLoJe7zweuBDoC++RiRDJJdyQidTswentXwh/dPdHUtbOZLSHkAiZF8y4B7jGzfwcqgfOi+d8BZprZNwk5hYsIL6uJ0xJ4IAoiBtwW9f0vst+oDkKkgaI6iBHu/mG20yKSCSpiEhGRWMpBiIhILOUgREQklgKEiIjEUoAQEZFYChAiIhJLAUJERGL9f0FDbJMwU9OvAAAAAElFTkSuQmCC\n",
      "text/plain": [
       "<Figure size 432x288 with 1 Axes>"
      ]
     },
     "metadata": {
      "needs_background": "light"
     },
     "output_type": "display_data"
    }
   ],
   "source": [
    "# 평가하기\n",
    "results_rnn = model_rnn.evaluate(X_test, y_test, verbose=2)\n",
    "print(results_rnn)\n",
    "\n",
    "history_dict_rnn = history_rnn.history\n",
    "print(history_dict_rnn.keys()) # epoch에 따른 그래프를 그려볼 수 있는 항목들\n",
    "\n",
    "# train과 val의 Loss\n",
    "acc_rnn = history_dict_rnn['accuracy']\n",
    "val_acc_rnn = history_dict_rnn['val_accuracy']\n",
    "loss_rnn = history_dict_rnn['loss']\n",
    "val_loss_rnn = history_dict_rnn['val_loss']\n",
    "\n",
    "epochs_rnn = range(1, len(acc_rnn) + 1)\n",
    "\n",
    "# \"bo\"는 \"파란색 점\"\n",
    "plt.plot(epochs_rnn, loss_rnn, 'bo', label='Training loss')\n",
    "# b는 \"파란 실선\"\n",
    "plt.plot(epochs_rnn, val_loss_rnn, 'b', label='Validation loss')\n",
    "plt.title('RNN\\'s Training & validation loss')\n",
    "plt.xlabel('Epochs')\n",
    "plt.ylabel('Loss')\n",
    "plt.legend()\n",
    "\n",
    "plt.show()\n",
    "\n",
    "# train과 val의 accuracy\n",
    "plt.clf()  \n",
    "\n",
    "plt.plot(epochs_rnn, acc_rnn, 'bo', label='Training acc')\n",
    "plt.plot(epochs_rnn, val_acc_rnn, 'b', label='Validation acc')\n",
    "plt.title('RNN\\'s Training and validation accuracy')\n",
    "plt.xlabel('Epochs')\n",
    "plt.ylabel('Accuracy')\n",
    "plt.legend()\n",
    "\n",
    "plt.show()"
   ]
  }
 ],
 "metadata": {
  "kernelspec": {
   "display_name": "Python 3 (ipykernel)",
   "language": "python",
   "name": "python3"
  },
  "language_info": {
   "codemirror_mode": {
    "name": "ipython",
    "version": 3
   },
   "file_extension": ".py",
   "mimetype": "text/x-python",
   "name": "python",
   "nbconvert_exporter": "python",
   "pygments_lexer": "ipython3",
   "version": "3.9.7"
  }
 },
 "nbformat": 4,
 "nbformat_minor": 5
}
