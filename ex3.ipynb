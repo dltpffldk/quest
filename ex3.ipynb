{
  "nbformat": 4,
  "nbformat_minor": 0,
  "metadata": {
    "colab": {
      "provenance": [],
      "authorship_tag": "ABX9TyPSujm7bgEjsGtrdENmrh92",
      "include_colab_link": true
    },
    "kernelspec": {
      "name": "python3",
      "display_name": "Python 3"
    },
    "language_info": {
      "name": "python"
    }
  },
  "cells": [
    {
      "cell_type": "markdown",
      "metadata": {
        "id": "view-in-github",
        "colab_type": "text"
      },
      "source": [
        "<a href=\"https://colab.research.google.com/github/dltpffldk/quest/blob/main/ex3.ipynb\" target=\"_parent\"><img src=\"https://colab.research.google.com/assets/colab-badge.svg\" alt=\"Open In Colab\"/></a>"
      ]
    },
    {
      "cell_type": "code",
      "source": [
        "from google.colab import drive\n",
        "drive.mount('/content/drive')"
      ],
      "metadata": {
        "colab": {
          "base_uri": "https://localhost:8080/"
        },
        "id": "s05wP8oWQ29D",
        "outputId": "dbecb607-c785-43e9-b4c7-a5b7eaa23c34"
      },
      "execution_count": 12,
      "outputs": [
        {
          "output_type": "stream",
          "name": "stdout",
          "text": [
            "Mounted at /content/drive\n"
          ]
        }
      ]
    },
    {
      "cell_type": "code",
      "execution_count": 15,
      "metadata": {
        "colab": {
          "base_uri": "https://localhost:8080/"
        },
        "id": "O3E-wpPkMKqn",
        "outputId": "742c7f5e-d578-4c6a-a8ed-9e62a9a93faa"
      },
      "outputs": [
        {
          "output_type": "stream",
          "name": "stdout",
          "text": [
            "--2023-05-22 16:26:52--  http://dlib.net/files/shape_predictor_68_face_landmarks.dat.bz2\n",
            "Resolving dlib.net (dlib.net)... 107.180.26.78\n",
            "Connecting to dlib.net (dlib.net)|107.180.26.78|:80... connected.\n",
            "HTTP request sent, awaiting response... 200 OK\n",
            "Length: 64040097 (61M)\n",
            "Saving to: ‘shape_predictor_68_face_landmarks.dat.bz2’\n",
            "\n",
            "shape_predictor_68_ 100%[===================>]  61.07M  21.3MB/s    in 2.9s    \n",
            "\n",
            "2023-05-22 16:26:55 (21.3 MB/s) - ‘shape_predictor_68_face_landmarks.dat.bz2’ saved [64040097/64040097]\n",
            "\n"
          ]
        }
      ],
      "source": [
        "!mkdir -p ~/aiffel/camera_sticker/models\n",
        "!mkdir -p ~/aiffel/camera_sticker/images\n",
        "!ln -s ~/data/* ~/aiffel/camera_sticker/images\n",
        "!wget http://dlib.net/files/shape_predictor_68_face_landmarks.dat.bz2\n",
        "!mv shape_predictor_68_face_landmarks.dat.bz2 ~/aiffel/camera_sticker/models\n",
        "!cd ~/aiffel/camera_sticker && bzip2 -d ./models/shape_predictor_68_face_landmarks.dat.bz2\n"
      ]
    },
    {
      "cell_type": "code",
      "source": [
        "import os\n",
        "import cv2\n",
        "import matplotlib.pyplot as plt\n",
        "import numpy as np\n",
        "import dlib "
      ],
      "metadata": {
        "id": "lYZSFDU0Mll7"
      },
      "execution_count": 16,
      "outputs": []
    },
    {
      "cell_type": "code",
      "source": [
        "my_image_path = os.getenv('HOME')+'/root/aiffel/camera_sticker/test2.jpg'\n",
        "img_bgr = cv2.imread(my_image_path)\n",
        "img_show = img_bgr.copy() #none값이 들어가면 이렇게 뜰 수 있다는데 바꿔봐도 안된다..\n",
        "img_bgr2 = img_bgr.copy()\n",
        "img_addwei = img_bgr.copy()\n",
        "img_rgb = cv2.cvtColor(img_bgr, cv2.COLOR_BGR2RGB)\n",
        "plt.imshow(img_rgb)\n",
        "plt.show()"
      ],
      "metadata": {
        "colab": {
          "base_uri": "https://localhost:8080/",
          "height": 251
        },
        "id": "khcF1b8yMzgJ",
        "outputId": "8b562fa5-8af7-4557-9c65-d5ff844081cd"
      },
      "execution_count": 17,
      "outputs": [
        {
          "output_type": "error",
          "ename": "AttributeError",
          "evalue": "ignored",
          "traceback": [
            "\u001b[0;31m---------------------------------------------------------------------------\u001b[0m",
            "\u001b[0;31mAttributeError\u001b[0m                            Traceback (most recent call last)",
            "\u001b[0;32m<ipython-input-17-3a7b64861ef1>\u001b[0m in \u001b[0;36m<cell line: 3>\u001b[0;34m()\u001b[0m\n\u001b[1;32m      1\u001b[0m \u001b[0mmy_image_path\u001b[0m \u001b[0;34m=\u001b[0m \u001b[0mos\u001b[0m\u001b[0;34m.\u001b[0m\u001b[0mgetenv\u001b[0m\u001b[0;34m(\u001b[0m\u001b[0;34m'HOME'\u001b[0m\u001b[0;34m)\u001b[0m\u001b[0;34m+\u001b[0m\u001b[0;34m'/root/aiffel/camera_sticker/test2.jpg'\u001b[0m\u001b[0;34m\u001b[0m\u001b[0;34m\u001b[0m\u001b[0m\n\u001b[1;32m      2\u001b[0m \u001b[0mimg_bgr\u001b[0m \u001b[0;34m=\u001b[0m \u001b[0mcv2\u001b[0m\u001b[0;34m.\u001b[0m\u001b[0mimread\u001b[0m\u001b[0;34m(\u001b[0m\u001b[0mmy_image_path\u001b[0m\u001b[0;34m)\u001b[0m\u001b[0;34m\u001b[0m\u001b[0;34m\u001b[0m\u001b[0m\n\u001b[0;32m----> 3\u001b[0;31m \u001b[0mimg_show\u001b[0m \u001b[0;34m=\u001b[0m \u001b[0mimg_bgr\u001b[0m\u001b[0;34m.\u001b[0m\u001b[0mcopy\u001b[0m\u001b[0;34m(\u001b[0m\u001b[0;34m)\u001b[0m \u001b[0;31m#none값이 들어가면 이렇게 뜰 수 있다는데 바꿔봐도 안된다..\u001b[0m\u001b[0;34m\u001b[0m\u001b[0;34m\u001b[0m\u001b[0m\n\u001b[0m\u001b[1;32m      4\u001b[0m \u001b[0mimg_bgr2\u001b[0m \u001b[0;34m=\u001b[0m \u001b[0mimg_bgr\u001b[0m\u001b[0;34m.\u001b[0m\u001b[0mcopy\u001b[0m\u001b[0;34m(\u001b[0m\u001b[0;34m)\u001b[0m\u001b[0;34m\u001b[0m\u001b[0;34m\u001b[0m\u001b[0m\n\u001b[1;32m      5\u001b[0m \u001b[0mimg_addwei\u001b[0m \u001b[0;34m=\u001b[0m \u001b[0mimg_bgr\u001b[0m\u001b[0;34m.\u001b[0m\u001b[0mcopy\u001b[0m\u001b[0;34m(\u001b[0m\u001b[0;34m)\u001b[0m\u001b[0;34m\u001b[0m\u001b[0;34m\u001b[0m\u001b[0m\n",
            "\u001b[0;31mAttributeError\u001b[0m: 'NoneType' object has no attribute 'copy'"
          ]
        }
      ]
    },
    {
      "cell_type": "code",
      "source": [
        "detector_hog = dlib.get_frontal_face_detector()\n",
        "img_rgb = cv2.cvtColor(img_bgr, cv2.COLOR_BGR2RGB)\n",
        "dlib_rects = detector_hog(img_rgb, 1)"
      ],
      "metadata": {
        "id": "tdqgYZyXOuGh"
      },
      "execution_count": null,
      "outputs": []
    },
    {
      "cell_type": "code",
      "source": [
        "print(dlib_rects)\n",
        "\n",
        "for dlib_rect in dlib_rects:\n",
        "    l = dlib_rect.left()\n",
        "    t = dlib_rect.top()\n",
        "    r = dlib_rect.right()\n",
        "    b = dlib_rect.bottom()\n",
        "\n",
        "    cv2.rectangle(img_show, (l,t), (r,b), (0,255,0), 2, lineType=cv2.LINE_AA)\n",
        "\n",
        "img_show_rgb =  cv2.cvtColor(img_show, cv2.COLOR_BGR2RGB)\n",
        "plt.imshow(img_show_rgb)\n",
        "plt.show()"
      ],
      "metadata": {
        "id": "IWU9RfaNQRyX"
      },
      "execution_count": null,
      "outputs": []
    },
    {
      "cell_type": "code",
      "source": [
        "model_path = '/root/aiffel/camera_sticker/models/shape_predictor_68_face_landmarks.dat'\n",
        "landmark_predictor = dlib.shape_predictor(model_path)"
      ],
      "metadata": {
        "id": "iUZWQizWSoXP"
      },
      "execution_count": null,
      "outputs": []
    },
    {
      "cell_type": "code",
      "source": [
        "list_landmarks = []\n",
        "\n",
        "for dlib_rect in dlib_rects:\n",
        "    points = landmark_predictor(img_rgb, dlib_rect)\n",
        "    list_points = list(map(lambda p: (p.x, p.y), points.parts()))\n",
        "    list_landmarks.append(list_points)\n",
        "\n",
        "print(len(list_landmarks[0]))"
      ],
      "metadata": {
        "id": "hgjocnn1S4dv"
      },
      "execution_count": null,
      "outputs": []
    },
    {
      "cell_type": "code",
      "source": [
        "for landmark in list_landmarks:\n",
        "    for point in landmark:\n",
        "        cv2.circle(img_show, point, 2, (0, 255, 255), -1)\n",
        "\n",
        "img_show_rgb = cv2.cvtColor(img_show, cv2.COLOR_BGR2RGB)\n",
        "plt.imshow(img_show_rgb)\n",
        "plt.show()"
      ],
      "metadata": {
        "id": "YFEIOmh9S_sF"
      },
      "execution_count": null,
      "outputs": []
    },
    {
      "cell_type": "code",
      "source": [
        "for dlib_rect, landmark in zip(dlib_rects, list_landmarks): #중요한 교점 예상\n",
        "    print (landmark[30])\n",
        "    x = landmark[30][0] #코의 x\n",
        "    y = landmark[30][1] - dlib_rect.height()// #코 부위의 y값-얼굴의 세로값//2\n",
        "    w = h = dlib_rect.width() \n",
        "    print (f'(x,y) : ({x},{y})')\n",
        "    print (f'(w,h) : ({w},{h})')"
      ],
      "metadata": {
        "id": "CVql-aIuTAk6"
      },
      "execution_count": null,
      "outputs": []
    },
    {
      "cell_type": "code",
      "source": [
        "sticker_path = os.getenv('HOME')+'/root/aiffel/camera_sticker/images/cat-whiskers.png'\n",
        "img_sticker = cv2.imread(sticker_path)\n",
        "img_sticker = cv2.resize(img_sticker, (w,h))\n",
        "print (img_sticker.shape)"
      ],
      "metadata": {
        "id": "NxOaHp8yTfnL"
      },
      "execution_count": null,
      "outputs": []
    },
    {
      "cell_type": "code",
      "source": [
        "refined_x = x - w // 2\n",
        "refined_y = y - h\n",
        "if refined_x < 0: \n",
        "    img_sticker = img_sticker[:, -refined_x:]\n",
        "    refined_x = 0\n",
        "if refined_y < 0:\n",
        "    img_sticker = img_sticker[-refined_y:, :]\n",
        "    refined_y = 0\n",
        "print (f'(x,y) : ({refined_x},{refined_y})')"
      ],
      "metadata": {
        "id": "7AoQhmzcUMXz"
      },
      "execution_count": null,
      "outputs": []
    },
    {
      "cell_type": "code",
      "source": [
        "sticker_area = img_show[refined_y:refined_y+img_sticker.shape[0], refined_x:refined_x+img_sticker.shape[1]]\n",
        "img_show[refined_y:refined_y+img_sticker.shape[0], refined_x:refined_x+img_sticker.shape[1]] = \\\n",
        "    np.where(img_sticker==0,sticker_area,img_sticker).astype(np.uint8)\n",
        "plt.imshow(cv2.cvtColor(img_show, cv2.COLOR_BGR2RGB))\n",
        "plt.show()\n",
        "\n",
        "sticker_area = img_bgr[refined_y:refined_y +img_sticker.shape[0], refined_x:refined_x+img_sticker.shape[1]]\n",
        "img_bgr[refined_y:refined_y +img_sticker.shape[0], refined_x:refined_x+img_sticker.shape[1]] = \\\n",
        "    np.where(img_sticker==0,sticker_area,img_sticker).astype(np.uint8)\n",
        "plt.imshow(cv2.cvtColor(img_bgr, cv2.COLOR_BGR2RGB))\n",
        "plt.show()"
      ],
      "metadata": {
        "id": "hf3jbEtpUkLQ"
      },
      "execution_count": null,
      "outputs": []
    }
  ]
}