{
  "nbformat": 4,
  "nbformat_minor": 0,
  "metadata": {
    "colab": {
      "provenance": [],
      "authorship_tag": "ABX9TyPDbCFIemhjbbyy5gM0gp3v",
      "include_colab_link": true
    },
    "kernelspec": {
      "name": "python3",
      "display_name": "Python 3"
    },
    "language_info": {
      "name": "python"
    }
  },
  "cells": [
    {
      "cell_type": "markdown",
      "metadata": {
        "id": "view-in-github",
        "colab_type": "text"
      },
      "source": [
        "<a href=\"https://colab.research.google.com/github/dltpffldk/quest/blob/main/ex02.ipynb\" target=\"_parent\"><img src=\"https://colab.research.google.com/assets/colab-badge.svg\" alt=\"Open In Colab\"/></a>"
      ]
    },
    {
      "cell_type": "code",
      "execution_count": 1,
      "metadata": {
        "id": "LpJrvqVQoyMz"
      },
      "outputs": [],
      "source": [
        "import warnings\n",
        "warnings.filterwarnings(\"ignore\")\n",
        "import os\n",
        "import pandas as pd\n",
        "import numpy as np\n",
        "import missingno as msno\n",
        "import xgboost as xgb\n",
        "import lightgbm as lgb\n",
        "import matplotlib.pyplot as plt\n",
        "import seaborn as sns\n",
        "from os.path import join\n",
        "from sklearn.ensemble import GradientBoostingRegressor\n",
        "from sklearn.model_selection import GridSearchCV, RandomizedSearchCV\n",
        "from sklearn.model_selection import KFold, cross_val_score, train_test_split\n",
        "from sklearn.metrics import mean_squared_error\n",
        "from xgboost import XGBRegressor\n",
        "from lightgbm import LGBMRegressor\n",
        "from sklearn.ensemble import GradientBoostingRegressor, RandomForestRegressor"
      ]
    },
    {
      "cell_type": "code",
      "source": [
        "data_dir = '/content/ex2'\n",
        "\n",
        "train_data_path = join(data_dir, 'train.csv')\n",
        "test_data_path = join(data_dir, 'test.csv') "
      ],
      "metadata": {
        "id": "bjApUtwXpSrB"
      },
      "execution_count": 3,
      "outputs": []
    },
    {
      "cell_type": "code",
      "source": [
        "X_train = pd.read_csv(train_data_path) #(15035, 19)\n",
        "X_test = pd.read_csv(test_data_path) #(6468, 19) \n",
        "\n",
        "\n",
        "X_train['date'] = X_train['date'].apply(lambda x: x[:6]).astype(int)\n",
        "X_test['date'] = X_test['date'].apply(lambda x: x[:6]).astype(int)\n",
        "\n",
        "y_target = X_train['price'] #(15035,)\n",
        "del X_train['price']\n",
        "del X_train['id']\n",
        "del X_test['id']\n",
        "\n",
        "y_target = np.log1p(y_target)\n",
        "\n",
        "random_state = 2023\n",
        "\n",
        "gboost = GradientBoostingRegressor(random_state=random_state)\n",
        "xgboost = XGBRegressor(random_state=random_state)\n",
        "lightgbm = LGBMRegressor(random_state=random_state)\n",
        "rdforest = RandomForestRegressor(random_state=random_state)\n",
        "\n",
        "models = [gboost, xgboost, lightgbm, rdforest]\n",
        "\n",
        "def rmse(y_test,y_pred):\n",
        "  return np.sqrt(mean_squared_error(np.expm1(y_test), np.expm1(y_pred)))\n",
        "\n",
        "df = {}\n",
        "for model in models:\n",
        "  model_name = model.__class__.__name__\n",
        "\n",
        "  x_train,x_test,y_train,y_test = train_test_split(X_train,y_target, \n",
        "                                                   test_size=0.2, \n",
        "                                                   random_state=random_state)\n",
        "\n",
        "  model.fit(x_train,y_train)\n",
        "\n",
        "  y_pred = model.predict(x_test)\n",
        "  df[model_name] = rmse(y_test,y_pred)\n",
        "\n",
        "  score_df = pd.DataFrame(df, index=['RMSE']).T.sort_values('RMSE', ascending=False)\n",
        "\n",
        "print(df)\n",
        "\n",
        "param_grid = {\n",
        "    'n_estimators': [50, 100],\n",
        "    'max_depth': [1, 10],\n",
        "}\n",
        "\n",
        "model = LGBMRegressor(random_state=random_state)\n",
        "\n",
        "grid_model = GridSearchCV(model, param_grid=param_grid,\n",
        "                          scoring='neg_mean_squared_error',\n",
        "                          cv=5, verbose=1, n_jobs=5)\n",
        "\n",
        "grid_model.fit(X_train, y_target)\n",
        "\n",
        "params = grid_model.cv_results_['params']\n",
        "score = grid_model.cv_results_['mean_test_score']\n",
        "\n",
        "result = pd.DataFrame(params)\n",
        "result['score'] = score\n",
        "\n",
        "result['RMSE'] = np.sqrt(-1 * result['score'])\n",
        "result = result.rename(columns={'RMSE':'RMSLE'})\n",
        "\n",
        "result = result.sort_values('RMSLE')\n",
        "print(result)\n",
        "\n",
        "model = LGBMRegressor(max_depth=10,n_estimators=100,\n",
        "                      learning_rate=0.1,\n",
        "                      feature_fraction=0.5,\n",
        "                      random_state=random_state)\n",
        "model.fit(X_train, y_target)\n",
        "prediction = model.predict(X_test)\n",
        "prediction = np.expm1(prediction)\n",
        "print(prediction)\n",
        "\n",
        "submission_data_path = join(data_dir, 'sample_submission.csv')\n",
        "submission_data = pd.read_csv(submission_data_path)\n",
        "submission_data['price'] = prediction\n",
        "submission_data.to_csv(submission_data_path, index=False)"
      ],
      "metadata": {
        "colab": {
          "base_uri": "https://localhost:8080/"
        },
        "id": "21oPTlg7plO6",
        "outputId": "4fc01b75-a4c3-4f7e-cc4d-922c4e02c337"
      },
      "execution_count": 9,
      "outputs": [
        {
          "output_type": "stream",
          "name": "stdout",
          "text": [
            "{'GradientBoostingRegressor': 127924.7314171738, 'XGBRegressor': 120604.4876395353, 'LGBMRegressor': 115213.99759418188, 'RandomForestRegressor': 140575.48248281624}\n",
            "Fitting 5 folds for each of 4 candidates, totalling 20 fits\n",
            "   max_depth  n_estimators     score     RMSLE\n",
            "3         10           100 -0.027027  0.164399\n",
            "2         10            50 -0.029177  0.170814\n",
            "1          1           100 -0.055020  0.234564\n",
            "0          1            50 -0.073394  0.270914\n",
            "[ 519143.89859889  477670.74786551 1328484.39943923 ...  432906.20840912\n",
            "  314835.76664976  420600.78981096]\n"
          ]
        }
      ]
    }
  ]
}
